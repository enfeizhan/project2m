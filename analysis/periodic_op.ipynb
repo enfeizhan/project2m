{
 "cells": [
  {
   "cell_type": "code",
   "execution_count": 1,
   "metadata": {
    "collapsed": true
   },
   "outputs": [],
   "source": [
    "%matplotlib inline\n",
    "import numpy as np\n",
    "import pandas as pd\n",
    "import pandas_datareader.data as web\n",
    "import os\n",
    "import matplotlib.pyplot as plt\n",
    "from multiprocessing import Pool, cpu_count"
   ]
  },
  {
   "cell_type": "code",
   "execution_count": 24,
   "metadata": {
    "collapsed": true
   },
   "outputs": [],
   "source": [
    "def find_op(kwargs):\n",
    "    series = kwargs['series']\n",
    "    perc = kwargs['perc']\n",
    "    n_days = kwargs['n_days']\n",
    "    name = kwargs['name']\n",
    "    rolling = series.rolling(window=n_days)\n",
    "    max_values = rolling.max().shift(-n_days)\n",
    "    min_values = rolling.min().shift(-n_days)\n",
    "    inc_op = max_values > series * (1 + perc)\n",
    "    dec_op = min_values < series * (1 - perc)\n",
    "    return pd.DataFrame({'total': inc_op.shape[0] - n_days,\n",
    "                         'inc_prob': sum(inc_op) / (inc_op.shape[0] - n_days),\n",
    "                         'dec_prob': sum(dec_op) / (dec_op.shape[0] - n_days)\n",
    "                        }, \n",
    "                        index=[name])"
   ]
  },
  {
   "cell_type": "code",
   "execution_count": 25,
   "metadata": {
    "collapsed": false
   },
   "outputs": [],
   "source": [
    "def find_prob_total(gpd, func, n_days=10, threshold=.7, perc=.1):\n",
    "    with Pool(cpu_count()) as p:\n",
    "        ret_list = p.map(\n",
    "            func, \n",
    "            [\n",
    "                {\n",
    "                    'n_days': n_days,\n",
    "                    'threshold': threshold,\n",
    "                    'perc': perc,\n",
    "                    'series': group['Close'],\n",
    "                    'other': group['Close'].iloc[-n_days:],\n",
    "                    'name': name\n",
    "                } \n",
    "                for name, group in gpd\n",
    "            ]\n",
    "        )\n",
    "    return pd.concat(ret_list)"
   ]
  },
  {
   "cell_type": "code",
   "execution_count": 26,
   "metadata": {
    "collapsed": false
   },
   "outputs": [],
   "source": [
    "price_path = '/Users/feizhan/Dropbox/Project2M/ASXYearlyCompanyConsolidation/'"
   ]
  },
  {
   "cell_type": "code",
   "execution_count": 27,
   "metadata": {
    "collapsed": false
   },
   "outputs": [],
   "source": [
    "years = [2013, 2014, 2015, 2016]\n",
    "dat = pd.DataFrame({})\n",
    "for year in years:\n",
    "    dat = dat.append(pd.read_csv(os.path.join(price_path, str(year)+'price.csv')))"
   ]
  },
  {
   "cell_type": "code",
   "execution_count": 28,
   "metadata": {
    "collapsed": false
   },
   "outputs": [],
   "source": [
    "gpd = dat.groupby('code')"
   ]
  },
  {
   "cell_type": "code",
   "execution_count": 29,
   "metadata": {
    "collapsed": false
   },
   "outputs": [
    {
     "name": "stdout",
     "output_type": "stream",
     "text": [
      "CPU times: user 2.44 s, sys: 276 ms, total: 2.72 s\n",
      "Wall time: 3.99 s\n"
     ]
    }
   ],
   "source": [
    "%time ops = find_prob_total(gpd, find_op)"
   ]
  },
  {
   "cell_type": "code",
   "execution_count": 30,
   "metadata": {
    "collapsed": false
   },
   "outputs": [
    {
     "data": {
      "text/html": [
       "<div>\n",
       "<table border=\"1\" class=\"dataframe\">\n",
       "  <thead>\n",
       "    <tr style=\"text-align: right;\">\n",
       "      <th></th>\n",
       "      <th>dec_prob</th>\n",
       "      <th>inc_prob</th>\n",
       "      <th>total</th>\n",
       "    </tr>\n",
       "  </thead>\n",
       "  <tbody>\n",
       "    <tr>\n",
       "      <th>1AL.AX</th>\n",
       "      <td>0.000000</td>\n",
       "      <td>0.000000</td>\n",
       "      <td>103</td>\n",
       "    </tr>\n",
       "    <tr>\n",
       "      <th>1PG.AX</th>\n",
       "      <td>0.302433</td>\n",
       "      <td>0.384705</td>\n",
       "      <td>863</td>\n",
       "    </tr>\n",
       "    <tr>\n",
       "      <th>1ST.AX</th>\n",
       "      <td>0.469565</td>\n",
       "      <td>0.334783</td>\n",
       "      <td>230</td>\n",
       "    </tr>\n",
       "    <tr>\n",
       "      <th>3DM.AX</th>\n",
       "      <td>0.325829</td>\n",
       "      <td>0.322275</td>\n",
       "      <td>844</td>\n",
       "    </tr>\n",
       "    <tr>\n",
       "      <th>3PL.AX</th>\n",
       "      <td>0.123667</td>\n",
       "      <td>0.083156</td>\n",
       "      <td>469</td>\n",
       "    </tr>\n",
       "  </tbody>\n",
       "</table>\n",
       "</div>"
      ],
      "text/plain": [
       "        dec_prob  inc_prob  total\n",
       "1AL.AX  0.000000  0.000000    103\n",
       "1PG.AX  0.302433  0.384705    863\n",
       "1ST.AX  0.469565  0.334783    230\n",
       "3DM.AX  0.325829  0.322275    844\n",
       "3PL.AX  0.123667  0.083156    469"
      ]
     },
     "execution_count": 30,
     "metadata": {},
     "output_type": "execute_result"
    }
   ],
   "source": [
    "ops.head()"
   ]
  },
  {
   "cell_type": "code",
   "execution_count": 33,
   "metadata": {
    "collapsed": false
   },
   "outputs": [
    {
     "data": {
      "text/html": [
       "<div>\n",
       "<table border=\"1\" class=\"dataframe\">\n",
       "  <thead>\n",
       "    <tr style=\"text-align: right;\">\n",
       "      <th></th>\n",
       "      <th>prob</th>\n",
       "      <th>total</th>\n",
       "    </tr>\n",
       "    <tr>\n",
       "      <th>code</th>\n",
       "      <th></th>\n",
       "      <th></th>\n",
       "    </tr>\n",
       "  </thead>\n",
       "  <tbody>\n",
       "    <tr>\n",
       "      <th>HZR.AX</th>\n",
       "      <td>0.531646</td>\n",
       "      <td>42.0</td>\n",
       "    </tr>\n",
       "    <tr>\n",
       "      <th>ISX.AX</th>\n",
       "      <td>0.510740</td>\n",
       "      <td>428.0</td>\n",
       "    </tr>\n",
       "    <tr>\n",
       "      <th>LCD.AX</th>\n",
       "      <td>0.502387</td>\n",
       "      <td>421.0</td>\n",
       "    </tr>\n",
       "    <tr>\n",
       "      <th>LSR.AX</th>\n",
       "      <td>0.505967</td>\n",
       "      <td>424.0</td>\n",
       "    </tr>\n",
       "    <tr>\n",
       "      <th>MEY.AX</th>\n",
       "      <td>0.508353</td>\n",
       "      <td>426.0</td>\n",
       "    </tr>\n",
       "    <tr>\n",
       "      <th>MNB.AX</th>\n",
       "      <td>0.509524</td>\n",
       "      <td>428.0</td>\n",
       "    </tr>\n",
       "    <tr>\n",
       "      <th>NIU.AX</th>\n",
       "      <td>0.501788</td>\n",
       "      <td>421.0</td>\n",
       "    </tr>\n",
       "    <tr>\n",
       "      <th>RFT.AX</th>\n",
       "      <td>0.512515</td>\n",
       "      <td>430.0</td>\n",
       "    </tr>\n",
       "    <tr>\n",
       "      <th>TYK.AX</th>\n",
       "      <td>0.530393</td>\n",
       "      <td>445.0</td>\n",
       "    </tr>\n",
       "  </tbody>\n",
       "</table>\n",
       "</div>"
      ],
      "text/plain": [
       "            prob  total\n",
       "code                   \n",
       "HZR.AX  0.531646   42.0\n",
       "ISX.AX  0.510740  428.0\n",
       "LCD.AX  0.502387  421.0\n",
       "LSR.AX  0.505967  424.0\n",
       "MEY.AX  0.508353  426.0\n",
       "MNB.AX  0.509524  428.0\n",
       "NIU.AX  0.501788  421.0\n",
       "RFT.AX  0.512515  430.0\n",
       "TYK.AX  0.530393  445.0"
      ]
     },
     "execution_count": 33,
     "metadata": {},
     "output_type": "execute_result"
    }
   ],
   "source": [
    "ops.loc[((0.5 < ops.prob) & (ops.prob < 0.55)).values]"
   ]
  },
  {
   "cell_type": "code",
   "execution_count": 8,
   "metadata": {
    "collapsed": true
   },
   "outputs": [],
   "source": [
    "start_year = 2011\n",
    "end_year = 2016\n",
    "start = pd.datetime(start_year, 1, 1)\n",
    "end = pd.datetime(end_year, 12, 31)\n",
    "code = 'AJL.AX'\n",
    "code_dat = web.DataReader(code, 'yahoo', start, end)"
   ]
  },
  {
   "cell_type": "code",
   "execution_count": 9,
   "metadata": {
    "collapsed": false
   },
   "outputs": [
    {
     "data": {
      "image/png": "[encoded data removed]",
      "text/plain": [
       "<matplotlib.figure.Figure at 0x110a9b9b0>"
      ]
     },
     "metadata": {},
     "output_type": "display_data"
    }
   ],
   "source": [
    "plt.figure(figsize=(10, 6))\n",
    "code_dat.loc[:, 'Close'].plot(kind='line')\n",
    "plt.grid()"
   ]
  },
  {
   "cell_type": "code",
   "execution_count": 22,
   "metadata": {
    "collapsed": true
   },
   "outputs": [],
   "source": [
    "def find_single_op(series, perc=0.1, n_days=10):\n",
    "    rolling = series.rolling(window=n_days)\n",
    "    max_values = rolling.max().shift(-n_days)\n",
    "    min_values = rolling.min().shift(-n_days)\n",
    "    inc_op = max_values > series * (1 + perc)\n",
    "    dec_op = min_values < series * (1 - perc)\n",
    "    return pd.DataFrame({'total': [inc_op.shape[0] - n_days], \n",
    "                         'inc_prob': [sum(inc_op) / (inc_op.shape[0] - n_days)],\n",
    "                         'dec_prob': [sum(dec_op) / (dec_op.shape[0] - n_days)]\n",
    "                        })"
   ]
  },
  {
   "cell_type": "code",
   "execution_count": 23,
   "metadata": {
    "collapsed": false
   },
   "outputs": [
    {
     "data": {
      "text/html": [
       "<div>\n",
       "<table border=\"1\" class=\"dataframe\">\n",
       "  <thead>\n",
       "    <tr style=\"text-align: right;\">\n",
       "      <th></th>\n",
       "      <th>dec_prob</th>\n",
       "      <th>inc_prob</th>\n",
       "      <th>total</th>\n",
       "    </tr>\n",
       "  </thead>\n",
       "  <tbody>\n",
       "    <tr>\n",
       "      <th>0</th>\n",
       "      <td>0.466451</td>\n",
       "      <td>0.299919</td>\n",
       "      <td>1237</td>\n",
       "    </tr>\n",
       "  </tbody>\n",
       "</table>\n",
       "</div>"
      ],
      "text/plain": [
       "   dec_prob  inc_prob  total\n",
       "0  0.466451  0.299919   1237"
      ]
     },
     "execution_count": 23,
     "metadata": {},
     "output_type": "execute_result"
    }
   ],
   "source": [
    "find_single_op(code_dat.loc[:, 'Close'], perc=0.15, n_days=30)"
   ]
  },
  {
   "cell_type": "code",
   "execution_count": null,
   "metadata": {
    "collapsed": true
   },
   "outputs": [],
   "source": []
  }
 ],
 "metadata": {
  "kernelspec": {
   "display_name": "Python 3",
   "language": "python",
   "name": "python3"
  },
  "language_info": {
   "codemirror_mode": {
    "name": "ipython",
    "version": 3
   },
   "file_extension": ".py",
   "mimetype": "text/x-python",
   "name": "python",
   "nbconvert_exporter": "python",
   "pygments_lexer": "ipython3",
   "version": "3.4.4"
  }
 },
 "nbformat": 4,
 "nbformat_minor": 0
}
