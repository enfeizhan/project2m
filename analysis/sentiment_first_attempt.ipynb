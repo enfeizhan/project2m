{
 "cells": [
  {
   "cell_type": "code",
   "execution_count": 70,
   "metadata": {
    "collapsed": false
   },
   "outputs": [],
   "source": [
    "import pandas as pd\n",
    "import numpy as np\n",
    "from gensim import corpora, models, similarities\n",
    "from collections import defaultdict\n",
    "from selenium import webdriver"
   ]
  },
  {
   "cell_type": "code",
   "execution_count": 2,
   "metadata": {
    "collapsed": true
   },
   "outputs": [],
   "source": [
    "names = pd.read_excel('asx_full.xlsx')"
   ]
  },
  {
   "cell_type": "code",
   "execution_count": 21,
   "metadata": {
    "collapsed": false
   },
   "outputs": [
    {
     "data": {
      "text/html": [
       "<div>\n",
       "<table border=\"1\" class=\"dataframe\">\n",
       "  <thead>\n",
       "    <tr style=\"text-align: right;\">\n",
       "      <th></th>\n",
       "      <th>ASX code</th>\n",
       "      <th>Company name</th>\n",
       "      <th>GICS industry group</th>\n",
       "    </tr>\n",
       "  </thead>\n",
       "  <tbody>\n",
       "    <tr>\n",
       "      <th>0</th>\n",
       "      <td>1PG</td>\n",
       "      <td>1-page limited</td>\n",
       "      <td>Software &amp; Services</td>\n",
       "    </tr>\n",
       "    <tr>\n",
       "      <th>1</th>\n",
       "      <td>ONT</td>\n",
       "      <td>1300 smiles limited</td>\n",
       "      <td>Health Care Equipment &amp; Services</td>\n",
       "    </tr>\n",
       "    <tr>\n",
       "      <th>2</th>\n",
       "      <td>1ST</td>\n",
       "      <td>1st available ltd</td>\n",
       "      <td>Health Care Equipment &amp; Services</td>\n",
       "    </tr>\n",
       "    <tr>\n",
       "      <th>3</th>\n",
       "      <td>TGP</td>\n",
       "      <td>360 capital group</td>\n",
       "      <td>Real Estate</td>\n",
       "    </tr>\n",
       "    <tr>\n",
       "      <th>4</th>\n",
       "      <td>TIX</td>\n",
       "      <td>360 capital industrial fund</td>\n",
       "      <td>Real Estate</td>\n",
       "    </tr>\n",
       "  </tbody>\n",
       "</table>\n",
       "</div>"
      ],
      "text/plain": [
       "  ASX code                 Company name               GICS industry group\n",
       "0      1PG               1-page limited               Software & Services\n",
       "1      ONT          1300 smiles limited  Health Care Equipment & Services\n",
       "2      1ST            1st available ltd  Health Care Equipment & Services\n",
       "3      TGP            360 capital group                       Real Estate\n",
       "4      TIX  360 capital industrial fund                       Real Estate"
      ]
     },
     "execution_count": 21,
     "metadata": {},
     "output_type": "execute_result"
    }
   ],
   "source": [
    "names.head()"
   ]
  },
  {
   "cell_type": "code",
   "execution_count": 20,
   "metadata": {
    "collapsed": true
   },
   "outputs": [],
   "source": [
    "names.loc[:, 'Company name'] =  names.loc[:, 'Company name'].str.lower()"
   ]
  },
  {
   "cell_type": "code",
   "execution_count": 35,
   "metadata": {
    "collapsed": false
   },
   "outputs": [],
   "source": [
    "with open('test_art.txt', 'r') as f:\n",
    "    test_art = f.read().lower()"
   ]
  },
  {
   "cell_type": "code",
   "execution_count": 38,
   "metadata": {
    "collapsed": false
   },
   "outputs": [],
   "source": [
    "test_art = test_art.replace('\\n', ' ').replace('\"', '').replace('.', ' ').replace(\"\\'\", ' ').replace('(', '').replace(')', '')"
   ]
  },
  {
   "cell_type": "code",
   "execution_count": 39,
   "metadata": {
    "collapsed": false
   },
   "outputs": [
    {
     "data": {
      "text/plain": [
       "'the prospect of a taxpayer-funded package to try to keep the whyalla steelworks in south australia operating has been discussed at talks between the state government and the arrium administrator   premier jay weatherill and treasurer tom koutsantonis met the administrator on friday to discuss how the steelworks might be supported as arrium deals with heavy debt   kordamentha is now handling the voluntary administration after being appointed this week at the request of banks and a union   mark mentha of kordamentha had an hour-long meeting with the premier and treasurer and all emerged saying much had been achieved   it was a very productive meeting with the administrator of arrium, mr koutsantonis told reporters   major customers have been promising they will keep buying whyalla steel, the treasurer said   what we re getting from the largest purchasers of australian structural steel is a commitment to continue purchasing that steel, mr koutsantonis said   mr mentha said there was the prospect of government support for the troubled steelworks   they re looking at putting a package together that can assist the administrator in attracting capital, new capital to this arrium business, he said   what i saw today was a government that s really committed to to the long term future of the whyalla community   ageing steelworks might get upgrade  the package might include taxpayer investment to improve the efficiency of the ageing steelworks and could see local port facilities available to paying customers   arrium has debt of about $4 billion and the whyalla steelworks is running at a loss   the administrator said short-term help had been given to 17 businesses which had problems because of what arrium owed them    nick xenophon at a travel agent in adelaide photo: nick xenophon visited a travel agent to arrange overseas travel for chris pyne  abc news premier weatherill is making plans to travel to whyalla in just over a fortnight for talks with affected businesses   the administrator also met federal industry minister christopher pyne   mr pyne said earlier in the week he would not personally attend a coming steel summit in belgium, so on friday the independent sa senator nick xenophon gathered reporters at a travel agency in the adelaide cbd to tell them he was arranging mr pyne s overseas air travel   if he s fair dinkum about standing up for our steel industry he needs to be at this high-level meeting in brussels on monday, senator xenophon said   mr pyne is sending his assistant minister because he wants to be in canberra to attend federal parliament  '"
      ]
     },
     "execution_count": 39,
     "metadata": {},
     "output_type": "execute_result"
    }
   ],
   "source": [
    "test_art"
   ]
  },
  {
   "cell_type": "code",
   "execution_count": 30,
   "metadata": {
    "collapsed": true
   },
   "outputs": [],
   "source": [
    "stoplist = set('for a of the and to in limited resources group ltd trust holdings coporation'.split())"
   ]
  },
  {
   "cell_type": "code",
   "execution_count": 40,
   "metadata": {
    "collapsed": false
   },
   "outputs": [],
   "source": [
    "text = [word for word in test_art.split() if word not in stoplist]"
   ]
  },
  {
   "cell_type": "code",
   "execution_count": 43,
   "metadata": {
    "collapsed": false
   },
   "outputs": [],
   "source": [
    "frequency = defaultdict(int)"
   ]
  },
  {
   "cell_type": "code",
   "execution_count": 44,
   "metadata": {
    "collapsed": false
   },
   "outputs": [],
   "source": [
    "for token in text:\n",
    "    frequency[token] += 1"
   ]
  },
  {
   "cell_type": "code",
   "execution_count": 46,
   "metadata": {
    "collapsed": false
   },
   "outputs": [],
   "source": [
    "text = [token for token in text if frequency[token] > 1]"
   ]
  },
  {
   "cell_type": "code",
   "execution_count": 64,
   "metadata": {
    "collapsed": false
   },
   "outputs": [],
   "source": [
    "codes = names.loc[:, 'ASX code'].values"
   ]
  },
  {
   "cell_type": "code",
   "execution_count": 65,
   "metadata": {
    "collapsed": false
   },
   "outputs": [],
   "source": [
    "text = np.concatenate((text, ['AMP']))"
   ]
  },
  {
   "cell_type": "code",
   "execution_count": 49,
   "metadata": {
    "collapsed": true
   },
   "outputs": [],
   "source": [
    "countcodes = defaultdict(int)\n",
    "for token in text:\n",
    "    if token in codes:\n",
    "        countcodes[token] += 1"
   ]
  },
  {
   "cell_type": "code",
   "execution_count": 68,
   "metadata": {
    "collapsed": false
   },
   "outputs": [
    {
     "data": {
      "text/plain": [
       "defaultdict(int, {'AMP': 1})"
      ]
     },
     "execution_count": 68,
     "metadata": {},
     "output_type": "execute_result"
    }
   ],
   "source": [
    "countcodes"
   ]
  },
  {
   "cell_type": "code",
   "execution_count": 72,
   "metadata": {
    "collapsed": false
   },
   "outputs": [],
   "source": [
    "driver = webdriver.Firefox()"
   ]
  },
  {
   "cell_type": "code",
   "execution_count": 73,
   "metadata": {
    "collapsed": true
   },
   "outputs": [],
   "source": [
    "driver.get('http://www.abc.net.au/news/business/articles/')"
   ]
  },
  {
   "cell_type": "code",
   "execution_count": 74,
   "metadata": {
    "collapsed": true
   },
   "outputs": [],
   "source": [
    "news_lst = driver.find_elements_by_xpath('//ul[@class=\"article-index\"]/li')"
   ]
  },
  {
   "cell_type": "code",
   "execution_count": 77,
   "metadata": {
    "collapsed": false
   },
   "outputs": [],
   "source": [
    "news_lst[0].find_element_by_xpath('h3').click()"
   ]
  },
  {
   "cell_type": "code",
   "execution_count": 81,
   "metadata": {
    "collapsed": true
   },
   "outputs": [],
   "source": [
    "texts = driver.find_element_by_css_selector('div.article.section')"
   ]
  },
  {
   "cell_type": "code",
   "execution_count": 82,
   "metadata": {
    "collapsed": false
   },
   "outputs": [
    {
     "data": {
      "text/plain": [
       "'Print Email Facebook Twitter More\\nLondon protests see thousands march against Prime Minister Cameron, spending cuts\\nPosted about 2 hours ago\\nPHOTO: Protesters gathered in Trafalgar Square to call for David Cameron\\'s resignation. (AFP: Justin Tallis)\\nRELATED STORY: David Cameron says he had stake in father\\'s offshore fund\\nRELATED STORY: David Cameron releases tax records in wake of Panama Papers leak\\nRELATED STORY: British PM David Cameron tightens tax laws after Panama Papers\\nMAP: United Kingdom\\nTens of thousands of people have marched through London in protest against government spending cuts, with some activists demanding Prime Minister David Cameron\\'s resignation over his family\\'s offshore finances.\\nKey points:\\nCalls for investment in health, education, housing\\nSome activists called for PM Cameron to resign\\nOpposition Leader calls austerity measures \"political choice, not economic necessity\"\\nDemonstrators converged on Trafalgar Square, calling for increased investment in the health service, housing, education and public sector pay, as well as action to stop the loss of thousands of steel workers\\' jobs in Wales.\\n\"No ifs, no buts, no public sector cuts,\" they chanted.\\nSome protesters also demanded Mr Cameron quit following revelations that he had shares in an offshore fund set up by his late father, holding up banners saying \"Ditch Dodgy Dave\" and \"Cameron Must Go — Tories Out!\".\\n\"For somebody in that position, you have a duty of care to the people of the country to be very open, very transparent. Just because something is legal doesn\\'t always make it right,\" protester Sarah Henney said.\\nPHOTO: Protesters let off smoke outside the gates of Downing Street during a demonstration organised by the Peopl\\'s Assembly Against Austerity in central London on April 16, 2016. (AFP: Justin Tallis)\\nThe march was planned before Mr Cameron\\'s family finances were revealed in the so-called Panama Papers, but organising group The People\\'s Assembly said it \"proves that this is a government for the privileged few\".\\nTrade union leaders and politicians addressed the crowd gathered in a rainy Trafalgar Square, with the opposition Labour party promising to end years of austerity imposed following the global financial crisis.\\n\"The austerity we are in is a political choice, not an economic necessity,\" Opposition Leader Jeremy Corbyn said in a video message.\\nMr Cameron said he sold his offshore holdings before taking office in 2010 and denied allegations that his father had set up his fund to avoid paying tax.\\nBut the row has put him under pressure at a difficult time, as he seeks to manage an increasingly bitter fight within his Conservative party over the upcoming referendum on Britain\\'s EU membership.\\nSome 128 of the 330 Conservative lawmakers in parliament and several of Mr Cameron\\'s own ministers are campaigning against him in favour of leaving the EU ahead of the June 23 vote.\\nOn Saturday, veteran Tory MP Ken Clarke warned that if Mr Cameron loses the vote, he will be forced out of office.\\nAFP\\nFrom other news sites:\\nYahoo!7 News: Tens of thousands in London march against PM, austerity\\nPowered by\\nFind out more about these links\\nTopics: budget, business-economics-and-finance, international-financial-crisis, corruption, government-and-politics, united-kingdom, england'"
      ]
     },
     "execution_count": 82,
     "metadata": {},
     "output_type": "execute_result"
    }
   ],
   "source": [
    "texts.text"
   ]
  },
  {
   "cell_type": "code",
   "execution_count": 83,
   "metadata": {
    "collapsed": true
   },
   "outputs": [],
   "source": [
    "text = _"
   ]
  },
  {
   "cell_type": "code",
   "execution_count": 84,
   "metadata": {
    "collapsed": true
   },
   "outputs": [],
   "source": [
    "text = text.replace('\\n', ' ')"
   ]
  },
  {
   "cell_type": "code",
   "execution_count": 85,
   "metadata": {
    "collapsed": true
   },
   "outputs": [],
   "source": [
    "text = text.replace('.', ' ')"
   ]
  },
  {
   "cell_type": "code",
   "execution_count": 86,
   "metadata": {
    "collapsed": true
   },
   "outputs": [],
   "source": [
    "text = text.upper()"
   ]
  },
  {
   "cell_type": "code",
   "execution_count": 87,
   "metadata": {
    "collapsed": true
   },
   "outputs": [],
   "source": [
    "text = text.replace('(', ' ')"
   ]
  },
  {
   "cell_type": "code",
   "execution_count": 88,
   "metadata": {
    "collapsed": true
   },
   "outputs": [],
   "source": [
    "text = text.replace(')', ' ')"
   ]
  },
  {
   "cell_type": "code",
   "execution_count": 89,
   "metadata": {
    "collapsed": true
   },
   "outputs": [],
   "source": [
    "text = text.replace(',', ' ')"
   ]
  },
  {
   "cell_type": "code",
   "execution_count": 91,
   "metadata": {
    "collapsed": true
   },
   "outputs": [],
   "source": [
    "text = text.replace(':', '')"
   ]
  },
  {
   "cell_type": "code",
   "execution_count": 92,
   "metadata": {
    "collapsed": true
   },
   "outputs": [],
   "source": [
    "text = text.replace('\"', '')"
   ]
  },
  {
   "cell_type": "code",
   "execution_count": 93,
   "metadata": {
    "collapsed": true
   },
   "outputs": [],
   "source": [
    "text = text.replace(\"'\", '')"
   ]
  },
  {
   "cell_type": "code",
   "execution_count": 95,
   "metadata": {
    "collapsed": true
   },
   "outputs": [],
   "source": [
    "text = text.replace('!', '')"
   ]
  },
  {
   "cell_type": "code",
   "execution_count": 96,
   "metadata": {
    "collapsed": false
   },
   "outputs": [
    {
     "data": {
      "text/plain": [
       "'PRINT EMAIL FACEBOOK TWITTER MORE LONDON PROTESTS SEE THOUSANDS MARCH AGAINST PRIME MINISTER CAMERON  SPENDING CUTS POSTED ABOUT 2 HOURS AGO PHOTO PROTESTERS GATHERED IN TRAFALGAR SQUARE TO CALL FOR DAVID CAMERONS RESIGNATION   AFP JUSTIN TALLIS  RELATED STORY DAVID CAMERON SAYS HE HAD STAKE IN FATHERS OFFSHORE FUND RELATED STORY DAVID CAMERON RELEASES TAX RECORDS IN WAKE OF PANAMA PAPERS LEAK RELATED STORY BRITISH PM DAVID CAMERON TIGHTENS TAX LAWS AFTER PANAMA PAPERS MAP UNITED KINGDOM TENS OF THOUSANDS OF PEOPLE HAVE MARCHED THROUGH LONDON IN PROTEST AGAINST GOVERNMENT SPENDING CUTS  WITH SOME ACTIVISTS DEMANDING PRIME MINISTER DAVID CAMERONS RESIGNATION OVER HIS FAMILYS OFFSHORE FINANCES  KEY POINTS CALLS FOR INVESTMENT IN HEALTH  EDUCATION  HOUSING SOME ACTIVISTS CALLED FOR PM CAMERON TO RESIGN OPPOSITION LEADER CALLS AUSTERITY MEASURES POLITICAL CHOICE  NOT ECONOMIC NECESSITY DEMONSTRATORS CONVERGED ON TRAFALGAR SQUARE  CALLING FOR INCREASED INVESTMENT IN THE HEALTH SERVICE  HOUSING  EDUCATION AND PUBLIC SECTOR PAY  AS WELL AS ACTION TO STOP THE LOSS OF THOUSANDS OF STEEL WORKERS JOBS IN WALES  NO IFS  NO BUTS  NO PUBLIC SECTOR CUTS  THEY CHANTED  SOME PROTESTERS ALSO DEMANDED MR CAMERON QUIT FOLLOWING REVELATIONS THAT HE HAD SHARES IN AN OFFSHORE FUND SET UP BY HIS LATE FATHER  HOLDING UP BANNERS SAYING DITCH DODGY DAVE AND CAMERON MUST GO — TORIES OUT  FOR SOMEBODY IN THAT POSITION  YOU HAVE A DUTY OF CARE TO THE PEOPLE OF THE COUNTRY TO BE VERY OPEN  VERY TRANSPARENT  JUST BECAUSE SOMETHING IS LEGAL DOESNT ALWAYS MAKE IT RIGHT  PROTESTER SARAH HENNEY SAID  PHOTO PROTESTERS LET OFF SMOKE OUTSIDE THE GATES OF DOWNING STREET DURING A DEMONSTRATION ORGANISED BY THE PEOPLS ASSEMBLY AGAINST AUSTERITY IN CENTRAL LONDON ON APRIL 16  2016   AFP JUSTIN TALLIS  THE MARCH WAS PLANNED BEFORE MR CAMERONS FAMILY FINANCES WERE REVEALED IN THE SO-CALLED PANAMA PAPERS  BUT ORGANISING GROUP THE PEOPLES ASSEMBLY SAID IT PROVES THAT THIS IS A GOVERNMENT FOR THE PRIVILEGED FEW  TRADE UNION LEADERS AND POLITICIANS ADDRESSED THE CROWD GATHERED IN A RAINY TRAFALGAR SQUARE  WITH THE OPPOSITION LABOUR PARTY PROMISING TO END YEARS OF AUSTERITY IMPOSED FOLLOWING THE GLOBAL FINANCIAL CRISIS  THE AUSTERITY WE ARE IN IS A POLITICAL CHOICE  NOT AN ECONOMIC NECESSITY  OPPOSITION LEADER JEREMY CORBYN SAID IN A VIDEO MESSAGE  MR CAMERON SAID HE SOLD HIS OFFSHORE HOLDINGS BEFORE TAKING OFFICE IN 2010 AND DENIED ALLEGATIONS THAT HIS FATHER HAD SET UP HIS FUND TO AVOID PAYING TAX  BUT THE ROW HAS PUT HIM UNDER PRESSURE AT A DIFFICULT TIME  AS HE SEEKS TO MANAGE AN INCREASINGLY BITTER FIGHT WITHIN HIS CONSERVATIVE PARTY OVER THE UPCOMING REFERENDUM ON BRITAINS EU MEMBERSHIP  SOME 128 OF THE 330 CONSERVATIVE LAWMAKERS IN PARLIAMENT AND SEVERAL OF MR CAMERONS OWN MINISTERS ARE CAMPAIGNING AGAINST HIM IN FAVOUR OF LEAVING THE EU AHEAD OF THE JUNE 23 VOTE  ON SATURDAY  VETERAN TORY MP KEN CLARKE WARNED THAT IF MR CAMERON LOSES THE VOTE  HE WILL BE FORCED OUT OF OFFICE  AFP FROM OTHER NEWS SITES YAHOO7 NEWS TENS OF THOUSANDS IN LONDON MARCH AGAINST PM  AUSTERITY POWERED BY FIND OUT MORE ABOUT THESE LINKS TOPICS BUDGET  BUSINESS-ECONOMICS-AND-FINANCE  INTERNATIONAL-FINANCIAL-CRISIS  CORRUPTION  GOVERNMENT-AND-POLITICS  UNITED-KINGDOM  ENGLAND'"
      ]
     },
     "execution_count": 96,
     "metadata": {},
     "output_type": "execute_result"
    }
   ],
   "source": [
    "text"
   ]
  },
  {
   "cell_type": "code",
   "execution_count": 99,
   "metadata": {
    "collapsed": true
   },
   "outputs": [],
   "source": [
    "countcodes = defaultdict(int)\n",
    "text = text.split(' ')\n",
    "for token in text:\n",
    "    if token in codes:\n",
    "        countcodes[token] += 1"
   ]
  },
  {
   "cell_type": "code",
   "execution_count": 100,
   "metadata": {
    "collapsed": false
   },
   "outputs": [
    {
     "data": {
      "text/plain": [
       "defaultdict(int, {'AFP': 3, 'AGO': 1, 'ARE': 2, 'HAS': 1, 'KEY': 1, 'PAY': 1})"
      ]
     },
     "execution_count": 100,
     "metadata": {},
     "output_type": "execute_result"
    }
   ],
   "source": [
    "countcodes"
   ]
  },
  {
   "cell_type": "code",
   "execution_count": null,
   "metadata": {
    "collapsed": true
   },
   "outputs": [],
   "source": []
  }
 ],
 "metadata": {
  "kernelspec": {
   "display_name": "Python 3",
   "language": "python",
   "name": "python3"
  },
  "language_info": {
   "codemirror_mode": {
    "name": "ipython",
    "version": 3
   },
   "file_extension": ".py",
   "mimetype": "text/x-python",
   "name": "python",
   "nbconvert_exporter": "python",
   "pygments_lexer": "ipython3",
   "version": "3.4.4"
  }
 },
 "nbformat": 4,
 "nbformat_minor": 0
}
