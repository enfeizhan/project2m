{
 "cells": [
  {
   "cell_type": "code",
   "execution_count": 1,
   "metadata": {
    "collapsed": false
   },
   "outputs": [],
   "source": [
    "%matplotlib inline\n",
    "import numpy as np\n",
    "import pandas as pd\n",
    "import pandas_datareader.data as web\n",
    "import os\n",
    "import matplotlib.pyplot as plt\n",
    "from multiprocessing import Pool, cpu_count\n",
    "from pandas.tseries.offsets import CDay, DateOffset\n",
    "from utils import ASXTradingCalendar"
   ]
  },
  {
   "cell_type": "code",
   "execution_count": 2,
   "metadata": {
    "collapsed": true
   },
   "outputs": [],
   "source": [
    "asx_dayoffset = CDay(calendar=ASXTradingCalendar())"
   ]
  },
  {
   "cell_type": "code",
   "execution_count": 3,
   "metadata": {
    "collapsed": true
   },
   "outputs": [],
   "source": [
    "price_path = '/Users/feizhan/Dropbox/Project2M/ASXYearlyCompanyConsolidation/'\n",
    "div_path = '/Users/feizhan/Dropbox/Project2M/ASXDividendHistory'"
   ]
  },
  {
   "cell_type": "code",
   "execution_count": 4,
   "metadata": {
    "collapsed": false
   },
   "outputs": [],
   "source": [
    "def find_div_prob(kwargs):\n",
    "    series = kwargs['series']\n",
    "    n_days_start = kwargs['n_days_start']\n",
    "    n_days_end = kwargs['n_days_end']\n",
    "    perc = kwargs['perc']\n",
    "    name = kwargs['name']\n",
    "    start_year = kwargs['start_year']\n",
    "    try:\n",
    "        div_dat = pd.read_csv(os.path.join(div_path, name+'.csv'), index_col=[0])\n",
    "        div_dat.index = pd.to_datetime(div_dat.index)\n",
    "        div_dat = div_dat.sort_index()\n",
    "        div_dat = div_dat.loc[start_year:]\n",
    "        div_dat = div_dat.loc[(div_dat.action == 'DIVIDEND').values]\n",
    "        if div_dat.shape[0] > 0:\n",
    "            div_dates = div_dat.index.tolist()\n",
    "            div_dates_start = []\n",
    "            div_dates_end = []\n",
    "            for div_date in div_dates:\n",
    "                div_dates_start.append(div_date - n_days_start * asx_dayoffset)\n",
    "                div_dates_end.append(div_date - n_days_end * asx_dayoffset)\n",
    "            date_pairs = zip(div_dates_start, div_dates_end)\n",
    "            inc_op = 0\n",
    "            dec_op = 0\n",
    "            for start_date, end_date in date_pairs:\n",
    "                try:\n",
    "                    start_price = series.loc[start_date]\n",
    "                except KeyError:\n",
    "                    continue\n",
    "                max_price = series.loc[start_date:end_date].max()\n",
    "                min_price = series.loc[start_date:end_date].min()\n",
    "                if max_price > start_price * (1 + perc):\n",
    "                    inc_op += 1\n",
    "                if min_price < start_price * (1 - perc):\n",
    "                    dec_op += 1\n",
    "            return pd.DataFrame(\n",
    "                {\n",
    "                    'total': [div_dat.shape[0]], \n",
    "                    'inc_prob': [inc_op/div_dat.shape[0]],\n",
    "                    'dec_prob': [dec_op/div_dat.shape[0]]\n",
    "                }, \n",
    "                index=[name]\n",
    "            )\n",
    "        else:\n",
    "            return pd.DataFrame({'total': [0], 'inc_prob': [0], 'dec_prob': [0]}, index=[name])\n",
    "    except OSError:\n",
    "        return pd.DataFrame({'total': [0], 'inc_prob': [0], 'dec_prob': [0]}, index=[name])"
   ]
  },
  {
   "cell_type": "code",
   "execution_count": 13,
   "metadata": {
    "collapsed": true
   },
   "outputs": [],
   "source": [
    "def find_prob_total(gpd, func, n_days_start=30, n_days_end=5, perc=.1, start_year=pd.datetime(2010, 1, 1)):\n",
    "    with Pool(cpu_count()) as p:\n",
    "        ret_list = p.map(\n",
    "            func, \n",
    "            [\n",
    "                {\n",
    "                    'n_days_start': n_days_start,\n",
    "                    'n_days_end': n_days_end,\n",
    "                    'perc': perc,\n",
    "                    'series': group['Close'],\n",
    "                    'name': name,\n",
    "                    'start_year': start_year\n",
    "                } \n",
    "                for name, group in gpd\n",
    "            ]\n",
    "        )\n",
    "    return pd.concat(ret_list)"
   ]
  },
  {
   "cell_type": "code",
   "execution_count": 6,
   "metadata": {
    "collapsed": true
   },
   "outputs": [],
   "source": [
    "years = [2012, 2013, 2014, 2015, 2016]\n",
    "dat = pd.DataFrame({})\n",
    "for year in years:\n",
    "    dat = dat.append(pd.read_csv(os.path.join(price_path, str(year)+'price.csv')))"
   ]
  },
  {
   "cell_type": "code",
   "execution_count": 7,
   "metadata": {
    "collapsed": false
   },
   "outputs": [],
   "source": [
    "dat.loc[:, 'Date'] = pd.to_datetime(dat.loc[:, 'Date'])"
   ]
  },
  {
   "cell_type": "code",
   "execution_count": 8,
   "metadata": {
    "collapsed": true
   },
   "outputs": [],
   "source": [
    "dat = dat.set_index('Date')"
   ]
  },
  {
   "cell_type": "code",
   "execution_count": 9,
   "metadata": {
    "collapsed": false
   },
   "outputs": [
    {
     "data": {
      "text/html": [
       "<div>\n",
       "<table border=\"1\" class=\"dataframe\">\n",
       "  <thead>\n",
       "    <tr style=\"text-align: right;\">\n",
       "      <th></th>\n",
       "      <th>Adj Close</th>\n",
       "      <th>Close</th>\n",
       "      <th>High</th>\n",
       "      <th>Low</th>\n",
       "      <th>Open</th>\n",
       "      <th>Volume</th>\n",
       "      <th>code</th>\n",
       "      <th>is_last_11_day</th>\n",
       "    </tr>\n",
       "    <tr>\n",
       "      <th>Date</th>\n",
       "      <th></th>\n",
       "      <th></th>\n",
       "      <th></th>\n",
       "      <th></th>\n",
       "      <th></th>\n",
       "      <th></th>\n",
       "      <th></th>\n",
       "      <th></th>\n",
       "    </tr>\n",
       "  </thead>\n",
       "  <tbody>\n",
       "    <tr>\n",
       "      <th>2012-01-02</th>\n",
       "      <td>0.86</td>\n",
       "      <td>0.043</td>\n",
       "      <td>0.043</td>\n",
       "      <td>0.043</td>\n",
       "      <td>0.043</td>\n",
       "      <td>0.0</td>\n",
       "      <td>1PG.AX</td>\n",
       "      <td>NaN</td>\n",
       "    </tr>\n",
       "    <tr>\n",
       "      <th>2012-01-03</th>\n",
       "      <td>0.86</td>\n",
       "      <td>0.043</td>\n",
       "      <td>0.043</td>\n",
       "      <td>0.043</td>\n",
       "      <td>0.043</td>\n",
       "      <td>0.0</td>\n",
       "      <td>1PG.AX</td>\n",
       "      <td>NaN</td>\n",
       "    </tr>\n",
       "    <tr>\n",
       "      <th>2012-01-04</th>\n",
       "      <td>0.86</td>\n",
       "      <td>0.043</td>\n",
       "      <td>0.043</td>\n",
       "      <td>0.043</td>\n",
       "      <td>0.043</td>\n",
       "      <td>0.0</td>\n",
       "      <td>1PG.AX</td>\n",
       "      <td>NaN</td>\n",
       "    </tr>\n",
       "    <tr>\n",
       "      <th>2012-01-05</th>\n",
       "      <td>0.86</td>\n",
       "      <td>0.043</td>\n",
       "      <td>0.043</td>\n",
       "      <td>0.043</td>\n",
       "      <td>0.043</td>\n",
       "      <td>0.0</td>\n",
       "      <td>1PG.AX</td>\n",
       "      <td>NaN</td>\n",
       "    </tr>\n",
       "    <tr>\n",
       "      <th>2012-01-06</th>\n",
       "      <td>0.86</td>\n",
       "      <td>0.043</td>\n",
       "      <td>0.043</td>\n",
       "      <td>0.043</td>\n",
       "      <td>0.043</td>\n",
       "      <td>0.0</td>\n",
       "      <td>1PG.AX</td>\n",
       "      <td>NaN</td>\n",
       "    </tr>\n",
       "  </tbody>\n",
       "</table>\n",
       "</div>"
      ],
      "text/plain": [
       "            Adj Close  Close   High    Low   Open  Volume    code  \\\n",
       "Date                                                                \n",
       "2012-01-02       0.86  0.043  0.043  0.043  0.043     0.0  1PG.AX   \n",
       "2012-01-03       0.86  0.043  0.043  0.043  0.043     0.0  1PG.AX   \n",
       "2012-01-04       0.86  0.043  0.043  0.043  0.043     0.0  1PG.AX   \n",
       "2012-01-05       0.86  0.043  0.043  0.043  0.043     0.0  1PG.AX   \n",
       "2012-01-06       0.86  0.043  0.043  0.043  0.043     0.0  1PG.AX   \n",
       "\n",
       "            is_last_11_day  \n",
       "Date                        \n",
       "2012-01-02             NaN  \n",
       "2012-01-03             NaN  \n",
       "2012-01-04             NaN  \n",
       "2012-01-05             NaN  \n",
       "2012-01-06             NaN  "
      ]
     },
     "execution_count": 9,
     "metadata": {},
     "output_type": "execute_result"
    }
   ],
   "source": [
    "dat.head()"
   ]
  },
  {
   "cell_type": "code",
   "execution_count": 10,
   "metadata": {
    "collapsed": false
   },
   "outputs": [],
   "source": [
    "gpd = dat.groupby('code')"
   ]
  },
  {
   "cell_type": "code",
   "execution_count": 14,
   "metadata": {
    "collapsed": false
   },
   "outputs": [
    {
     "name": "stdout",
     "output_type": "stream",
     "text": [
      "CPU times: user 1.82 s, sys: 183 ms, total: 2 s\n",
      "Wall time: 2.73 s\n"
     ]
    }
   ],
   "source": [
    "%time div_ops = find_prob_total(gpd, find_div_prob, n_days_start=100, n_days_end=10, perc=.1, start_year=pd.datetime(2013, 1, 1))"
   ]
  },
  {
   "cell_type": "code",
   "execution_count": 15,
   "metadata": {
    "collapsed": false
   },
   "outputs": [
    {
     "data": {
      "text/html": [
       "<div>\n",
       "<table border=\"1\" class=\"dataframe\">\n",
       "  <thead>\n",
       "    <tr style=\"text-align: right;\">\n",
       "      <th></th>\n",
       "      <th>dec_prob</th>\n",
       "      <th>inc_prob</th>\n",
       "      <th>total</th>\n",
       "    </tr>\n",
       "  </thead>\n",
       "  <tbody>\n",
       "    <tr>\n",
       "      <th>ZNZ.AX</th>\n",
       "      <td>0.0</td>\n",
       "      <td>0.666667</td>\n",
       "      <td>6</td>\n",
       "    </tr>\n",
       "    <tr>\n",
       "      <th>ZRL.AX</th>\n",
       "      <td>0.0</td>\n",
       "      <td>0.000000</td>\n",
       "      <td>0</td>\n",
       "    </tr>\n",
       "    <tr>\n",
       "      <th>ZTA.AX</th>\n",
       "      <td>0.0</td>\n",
       "      <td>0.000000</td>\n",
       "      <td>0</td>\n",
       "    </tr>\n",
       "    <tr>\n",
       "      <th>ZYB.AX</th>\n",
       "      <td>0.0</td>\n",
       "      <td>0.000000</td>\n",
       "      <td>0</td>\n",
       "    </tr>\n",
       "    <tr>\n",
       "      <th>ZYL.AX</th>\n",
       "      <td>0.0</td>\n",
       "      <td>0.000000</td>\n",
       "      <td>0</td>\n",
       "    </tr>\n",
       "  </tbody>\n",
       "</table>\n",
       "</div>"
      ],
      "text/plain": [
       "        dec_prob  inc_prob  total\n",
       "ZNZ.AX       0.0  0.666667      6\n",
       "ZRL.AX       0.0  0.000000      0\n",
       "ZTA.AX       0.0  0.000000      0\n",
       "ZYB.AX       0.0  0.000000      0\n",
       "ZYL.AX       0.0  0.000000      0"
      ]
     },
     "execution_count": 15,
     "metadata": {},
     "output_type": "execute_result"
    }
   ],
   "source": [
    "div_ops.tail()"
   ]
  },
  {
   "cell_type": "code",
   "execution_count": 16,
   "metadata": {
    "collapsed": false
   },
   "outputs": [
    {
     "data": {
      "text/plain": [
       "dec_prob    1.00\n",
       "inc_prob    0.25\n",
       "total       4.00\n",
       "Name: NEC.AX, dtype: float64"
      ]
     },
     "execution_count": 16,
     "metadata": {},
     "output_type": "execute_result"
    }
   ],
   "source": [
    "div_ops.loc['NEC.AX']"
   ]
  },
  {
   "cell_type": "code",
   "execution_count": 126,
   "metadata": {
    "collapsed": false
   },
   "outputs": [],
   "source": [
    "start_year = 2000\n",
    "end_year = 2016\n",
    "start = pd.datetime(start_year, 1, 1)\n",
    "end = pd.datetime(end_year, 12, 31)\n",
    "code = 'ARF.AX'\n",
    "code_dat = web.DataReader(code, 'yahoo', start, end)\n",
    "div_dat = web.DataReader(code, 'yahoo-actions', start, end)\n",
    "div_dat = div_dat.loc[(div_dat.action == 'DIVIDEND').values]"
   ]
  },
  {
   "cell_type": "code",
   "execution_count": null,
   "metadata": {
    "collapsed": true
   },
   "outputs": [],
   "source": []
  }
 ],
 "metadata": {
  "kernelspec": {
   "display_name": "Python 3",
   "language": "python",
   "name": "python3"
  },
  "language_info": {
   "codemirror_mode": {
    "name": "ipython",
    "version": 3
   },
   "file_extension": ".py",
   "mimetype": "text/x-python",
   "name": "python",
   "nbconvert_exporter": "python",
   "pygments_lexer": "ipython3",
   "version": "3.4.4"
  }
 },
 "nbformat": 4,
 "nbformat_minor": 0
}
