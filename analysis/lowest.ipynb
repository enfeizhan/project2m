{
 "cells": [
  {
   "cell_type": "code",
   "execution_count": 1,
   "metadata": {
    "collapsed": true
   },
   "outputs": [],
   "source": [
    "%matplotlib inline\n",
    "import numpy as np\n",
    "import pandas as pd\n",
    "import os\n",
    "import matplotlib.pyplot as plt"
   ]
  },
  {
   "cell_type": "code",
   "execution_count": 2,
   "metadata": {
    "collapsed": true
   },
   "outputs": [],
   "source": [
    "price_path = '/home/fei/Dropbox/Project2M/ASXYearlyCompanyConsolidation/'"
   ]
  },
  {
   "cell_type": "code",
   "execution_count": 3,
   "metadata": {
    "collapsed": true
   },
   "outputs": [],
   "source": [
    "years = [2013, 2014, 2015, 2016]\n",
    "dat = pd.DataFrame({})\n",
    "for year in years:\n",
    "    dat = dat.append(pd.read_csv(os.path.join(price_path, str(year)+'price.csv')))"
   ]
  },
  {
   "cell_type": "code",
   "execution_count": 4,
   "metadata": {
    "collapsed": true
   },
   "outputs": [],
   "source": [
    "dat.loc[:, 'Date'] = pd.to_datetime(dat.loc[:, 'Date'])\n",
    "gpd = dat.groupby('code')\n",
    "hist_min = gpd['Close'].min()\n",
    "last_price = gpd['Close'].last()\n",
    "last_volume = gpd['Volume'].last()\n",
    "low = (last_price >= 1.0 * hist_min) & (last_price < 1.01 * hist_min) & (.1 < last_price) & (last_price < 5) & (last_volume > 0)"
   ]
  },
  {
   "cell_type": "code",
   "execution_count": 5,
   "metadata": {
    "collapsed": false
   },
   "outputs": [
    {
     "data": {
      "text/plain": [
       "False    2071\n",
       "True       14\n",
       "dtype: int64"
      ]
     },
     "execution_count": 5,
     "metadata": {},
     "output_type": "execute_result"
    }
   ],
   "source": [
    "low.value_counts()"
   ]
  },
  {
   "cell_type": "code",
   "execution_count": 6,
   "metadata": {
    "collapsed": false
   },
   "outputs": [
    {
     "data": {
      "text/plain": [
       "Index(['ABW.AX', 'AD1.AX', 'AEG.AX', 'AGF.AX', 'AOF.AX', 'DRO.AX', 'FFC.AX',\n",
       "       'FZO.AX', 'GPX.AX', 'PDN.AX', 'SM8.AX', 'SVH.AX', 'TWR.AX', 'YBR.AX'],\n",
       "      dtype='object', name='code')"
      ]
     },
     "execution_count": 6,
     "metadata": {},
     "output_type": "execute_result"
    }
   ],
   "source": [
    "low.loc[low].index"
   ]
  },
  {
   "cell_type": "code",
   "execution_count": 6,
   "metadata": {
    "collapsed": false
   },
   "outputs": [
    {
     "data": {
      "text/plain": [
       "Index(['ABW.AX', 'ACR.AX', 'AEG.AX', 'AGF.AX', 'AOF.AX', 'CYG.AX', 'GPX.AX',\n",
       "       'NZM.AX', 'PDN.AX', 'TWR.AX', 'UBN.AX', 'WMC.AX', 'XRF.AX'],\n",
       "      dtype='object', name='code')"
      ]
     },
     "execution_count": 6,
     "metadata": {},
     "output_type": "execute_result"
    }
   ],
   "source": [
    "low.loc[low].index"
   ]
  },
  {
   "cell_type": "code",
   "execution_count": 9,
   "metadata": {
    "collapsed": true
   },
   "outputs": [],
   "source": [
    "years = [2011, 2012, 2013, 2014, 2015, 2016]\n",
    "dat = pd.DataFrame({})\n",
    "for year in years:\n",
    "    dat = dat.append(pd.read_csv(os.path.join(price_path, str(year)+'price.csv')))"
   ]
  },
  {
   "cell_type": "code",
   "execution_count": 23,
   "metadata": {
    "collapsed": true
   },
   "outputs": [],
   "source": [
    "code = 'ACR.AX'"
   ]
  },
  {
   "cell_type": "code",
   "execution_count": 24,
   "metadata": {
    "collapsed": false
   },
   "outputs": [],
   "source": [
    "code_dat = dat.loc[(dat.code == code).values].copy()"
   ]
  },
  {
   "cell_type": "code",
   "execution_count": 25,
   "metadata": {
    "collapsed": false
   },
   "outputs": [
    {
     "data": {
      "text/html": [
       "<div>\n",
       "<table border=\"1\" class=\"dataframe\">\n",
       "  <thead>\n",
       "    <tr style=\"text-align: right;\">\n",
       "      <th></th>\n",
       "      <th>Adj Close</th>\n",
       "      <th>Close</th>\n",
       "      <th>Date</th>\n",
       "      <th>High</th>\n",
       "      <th>Low</th>\n",
       "      <th>Open</th>\n",
       "      <th>Volume</th>\n",
       "      <th>code</th>\n",
       "      <th>is_last_11_day</th>\n",
       "    </tr>\n",
       "  </thead>\n",
       "  <tbody>\n",
       "    <tr>\n",
       "      <th>5328</th>\n",
       "      <td>2.865</td>\n",
       "      <td>3.54</td>\n",
       "      <td>2011-01-03</td>\n",
       "      <td>3.54</td>\n",
       "      <td>3.54</td>\n",
       "      <td>3.54</td>\n",
       "      <td>0.0</td>\n",
       "      <td>ACR.AX</td>\n",
       "      <td>NaN</td>\n",
       "    </tr>\n",
       "    <tr>\n",
       "      <th>5329</th>\n",
       "      <td>2.849</td>\n",
       "      <td>3.52</td>\n",
       "      <td>2011-01-04</td>\n",
       "      <td>3.54</td>\n",
       "      <td>3.49</td>\n",
       "      <td>3.53</td>\n",
       "      <td>267400.0</td>\n",
       "      <td>ACR.AX</td>\n",
       "      <td>NaN</td>\n",
       "    </tr>\n",
       "    <tr>\n",
       "      <th>5330</th>\n",
       "      <td>2.857</td>\n",
       "      <td>3.53</td>\n",
       "      <td>2011-01-05</td>\n",
       "      <td>3.57</td>\n",
       "      <td>3.52</td>\n",
       "      <td>3.55</td>\n",
       "      <td>128800.0</td>\n",
       "      <td>ACR.AX</td>\n",
       "      <td>NaN</td>\n",
       "    </tr>\n",
       "    <tr>\n",
       "      <th>5331</th>\n",
       "      <td>2.857</td>\n",
       "      <td>3.53</td>\n",
       "      <td>2011-01-06</td>\n",
       "      <td>3.54</td>\n",
       "      <td>3.50</td>\n",
       "      <td>3.54</td>\n",
       "      <td>157700.0</td>\n",
       "      <td>ACR.AX</td>\n",
       "      <td>NaN</td>\n",
       "    </tr>\n",
       "    <tr>\n",
       "      <th>5332</th>\n",
       "      <td>2.817</td>\n",
       "      <td>3.48</td>\n",
       "      <td>2011-01-07</td>\n",
       "      <td>3.55</td>\n",
       "      <td>3.47</td>\n",
       "      <td>3.55</td>\n",
       "      <td>210400.0</td>\n",
       "      <td>ACR.AX</td>\n",
       "      <td>NaN</td>\n",
       "    </tr>\n",
       "  </tbody>\n",
       "</table>\n",
       "</div>"
      ],
      "text/plain": [
       "      Adj Close  Close        Date  High   Low  Open    Volume    code  \\\n",
       "5328      2.865   3.54  2011-01-03  3.54  3.54  3.54       0.0  ACR.AX   \n",
       "5329      2.849   3.52  2011-01-04  3.54  3.49  3.53  267400.0  ACR.AX   \n",
       "5330      2.857   3.53  2011-01-05  3.57  3.52  3.55  128800.0  ACR.AX   \n",
       "5331      2.857   3.53  2011-01-06  3.54  3.50  3.54  157700.0  ACR.AX   \n",
       "5332      2.817   3.48  2011-01-07  3.55  3.47  3.55  210400.0  ACR.AX   \n",
       "\n",
       "      is_last_11_day  \n",
       "5328             NaN  \n",
       "5329             NaN  \n",
       "5330             NaN  \n",
       "5331             NaN  \n",
       "5332             NaN  "
      ]
     },
     "execution_count": 25,
     "metadata": {},
     "output_type": "execute_result"
    }
   ],
   "source": [
    "code_dat.head()"
   ]
  },
  {
   "cell_type": "code",
   "execution_count": 26,
   "metadata": {
    "collapsed": true
   },
   "outputs": [],
   "source": [
    "code_dat.loc[:, 'Date'] = pd.to_datetime(code_dat.loc[:, 'Date'])"
   ]
  },
  {
   "cell_type": "code",
   "execution_count": 27,
   "metadata": {
    "collapsed": true
   },
   "outputs": [],
   "source": [
    "code_dat = code_dat.set_index('Date')"
   ]
  },
  {
   "cell_type": "code",
   "execution_count": null,
   "metadata": {
    "collapsed": false
   },
   "outputs": [],
   "source": [
    "plt.figure(figsize=(10, 6))\n",
    "ax = plt.subplot(111)\n",
    "code_dat.loc[:, 'Close'].plot(kind='line')\n",
    "plt.grid()"
   ]
  },
  {
   "cell_type": "code",
   "execution_count": 16,
   "metadata": {
    "collapsed": false
   },
   "outputs": [
    {
     "data": {
      "image/png": "[encoded data removed]",
      "text/plain": [
       "<matplotlib.figure.Figure at 0x7f33e58839b0>"
      ]
     },
     "metadata": {},
     "output_type": "display_data"
    }
   ],
   "source": [
    "plt.figure(figsize=(10, 6))\n",
    "ax = plt.subplot(111)\n",
    "code_dat.loc[:, 'Adj Close'].plot(kind='line')\n",
    "plt.grid()"
   ]
  },
  {
   "cell_type": "code",
   "execution_count": 108,
   "metadata": {
    "collapsed": true
   },
   "outputs": [],
   "source": [
    "asx_sector = pd.read_excel('sector_codes.xlsx')"
   ]
  },
  {
   "cell_type": "code",
   "execution_count": 16,
   "metadata": {
    "collapsed": false
   },
   "outputs": [
    {
     "data": {
      "text/html": [
       "<div>\n",
       "<table border=\"1\" class=\"dataframe\">\n",
       "  <thead>\n",
       "    <tr style=\"text-align: right;\">\n",
       "      <th></th>\n",
       "      <th>sector_code</th>\n",
       "      <th>name</th>\n",
       "    </tr>\n",
       "  </thead>\n",
       "  <tbody>\n",
       "    <tr>\n",
       "      <th>0</th>\n",
       "      <td>^AXPJ</td>\n",
       "      <td>S&amp;P/ASX 200 A-REIT</td>\n",
       "    </tr>\n",
       "    <tr>\n",
       "      <th>1</th>\n",
       "      <td>^AXDJ</td>\n",
       "      <td>S&amp;P/ASX 200 Cons Disc</td>\n",
       "    </tr>\n",
       "    <tr>\n",
       "      <th>2</th>\n",
       "      <td>^AXSJ</td>\n",
       "      <td>S&amp;P/ASX 200 Cons Staples</td>\n",
       "    </tr>\n",
       "    <tr>\n",
       "      <th>3</th>\n",
       "      <td>^AXEJ</td>\n",
       "      <td>S&amp;P/ASX 200 Energy</td>\n",
       "    </tr>\n",
       "    <tr>\n",
       "      <th>4</th>\n",
       "      <td>^AXXJ</td>\n",
       "      <td>S&amp;P/ASX 200 Fin-x-Prop</td>\n",
       "    </tr>\n",
       "    <tr>\n",
       "      <th>5</th>\n",
       "      <td>^AXFJ</td>\n",
       "      <td>S&amp;P/ASX 200 Financials</td>\n",
       "    </tr>\n",
       "    <tr>\n",
       "      <th>6</th>\n",
       "      <td>^AXHJ</td>\n",
       "      <td>S&amp;P/ASX 200 Health Care</td>\n",
       "    </tr>\n",
       "    <tr>\n",
       "      <th>7</th>\n",
       "      <td>^AXNJ</td>\n",
       "      <td>S&amp;P/ASX 200 Industrials</td>\n",
       "    </tr>\n",
       "    <tr>\n",
       "      <th>8</th>\n",
       "      <td>^AXIJ</td>\n",
       "      <td>S&amp;P/ASX 200 Info Tech</td>\n",
       "    </tr>\n",
       "    <tr>\n",
       "      <th>9</th>\n",
       "      <td>^AXMJ</td>\n",
       "      <td>S&amp;P/ASX 200 Materials</td>\n",
       "    </tr>\n",
       "    <tr>\n",
       "      <th>10</th>\n",
       "      <td>^AXTJ</td>\n",
       "      <td>S&amp;P/ASX 200 Telecomms</td>\n",
       "    </tr>\n",
       "    <tr>\n",
       "      <th>11</th>\n",
       "      <td>^AXUJ</td>\n",
       "      <td>S&amp;P/ASX 200 Utilities</td>\n",
       "    </tr>\n",
       "  </tbody>\n",
       "</table>\n",
       "</div>"
      ],
      "text/plain": [
       "   sector_code                      name\n",
       "0        ^AXPJ        S&P/ASX 200 A-REIT\n",
       "1        ^AXDJ     S&P/ASX 200 Cons Disc\n",
       "2        ^AXSJ  S&P/ASX 200 Cons Staples\n",
       "3        ^AXEJ        S&P/ASX 200 Energy\n",
       "4        ^AXXJ    S&P/ASX 200 Fin-x-Prop\n",
       "5        ^AXFJ    S&P/ASX 200 Financials\n",
       "6        ^AXHJ   S&P/ASX 200 Health Care\n",
       "7        ^AXNJ   S&P/ASX 200 Industrials\n",
       "8        ^AXIJ     S&P/ASX 200 Info Tech\n",
       "9        ^AXMJ     S&P/ASX 200 Materials\n",
       "10       ^AXTJ     S&P/ASX 200 Telecomms\n",
       "11       ^AXUJ     S&P/ASX 200 Utilities"
      ]
     },
     "execution_count": 16,
     "metadata": {},
     "output_type": "execute_result"
    }
   ],
   "source": [
    "asx_sector"
   ]
  },
  {
   "cell_type": "code",
   "execution_count": 17,
   "metadata": {
    "collapsed": true
   },
   "outputs": [],
   "source": [
    "asx_list = pd.read_excel('asx_full.xlsx')"
   ]
  },
  {
   "cell_type": "code",
   "execution_count": 110,
   "metadata": {
    "collapsed": false
   },
   "outputs": [
    {
     "data": {
      "text/plain": [
       "1804    Consumer Durables & Apparel\n",
       "Name: GICS industry group, dtype: object"
      ]
     },
     "execution_count": 110,
     "metadata": {},
     "output_type": "execute_result"
    }
   ],
   "source": [
    "asx_list.loc[(asx_list.loc[:, 'ASX code'] == 'SIO'), 'GICS industry group']"
   ]
  },
  {
   "cell_type": "code",
   "execution_count": null,
   "metadata": {
    "collapsed": true
   },
   "outputs": [],
   "source": []
  }
 ],
 "metadata": {
  "kernelspec": {
   "display_name": "Python 3",
   "language": "python",
   "name": "python3"
  },
  "language_info": {
   "codemirror_mode": {
    "name": "ipython",
    "version": 3
   },
   "file_extension": ".py",
   "mimetype": "text/x-python",
   "name": "python",
   "nbconvert_exporter": "python",
   "pygments_lexer": "ipython3",
   "version": "3.5.2"
  }
 },
 "nbformat": 4,
 "nbformat_minor": 0
}
