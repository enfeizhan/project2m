{
 "cells": [
  {
   "cell_type": "code",
   "execution_count": 1,
   "metadata": {
    "collapsed": true
   },
   "outputs": [],
   "source": [
    "%matplotlib inline\n",
    "import numpy as np\n",
    "import pandas as pd\n",
    "import os\n",
    "import matplotlib.pyplot as plt"
   ]
  },
  {
   "cell_type": "code",
   "execution_count": 2,
   "metadata": {
    "collapsed": true
   },
   "outputs": [],
   "source": [
    "price_path = '/Users/feizhan/Dropbox/Project2M/ASXYearlyCompanyConsolidation/'"
   ]
  },
  {
   "cell_type": "code",
   "execution_count": 3,
   "metadata": {
    "collapsed": true
   },
   "outputs": [],
   "source": [
    "years = [2013, 2014, 2015, 2016]\n",
    "dat = pd.DataFrame({})\n",
    "for year in years:\n",
    "    dat = dat.append(pd.read_csv(os.path.join(price_path, str(year)+'price.csv')))"
   ]
  },
  {
   "cell_type": "code",
   "execution_count": 4,
   "metadata": {
    "collapsed": true
   },
   "outputs": [],
   "source": [
    "dat.loc[:, 'Date'] = pd.to_datetime(dat.loc[:, 'Date'])\n",
    "gpd = dat.groupby('code')\n",
    "hist_min = gpd['Close'].min()\n",
    "last_price = gpd['Close'].last()\n",
    "last_volume = gpd['Volume'].last()\n",
    "low = (last_price < 1.01 * hist_min) & (.1 < last_price) & (last_price < 5) & (last_volume > 0)"
   ]
  },
  {
   "cell_type": "code",
   "execution_count": 5,
   "metadata": {
    "collapsed": false
   },
   "outputs": [
    {
     "data": {
      "text/plain": [
       "False    1996\n",
       "True       23\n",
       "dtype: int64"
      ]
     },
     "execution_count": 5,
     "metadata": {},
     "output_type": "execute_result"
    }
   ],
   "source": [
    "low.value_counts()"
   ]
  },
  {
   "cell_type": "code",
   "execution_count": 6,
   "metadata": {
    "collapsed": false
   },
   "outputs": [
    {
     "data": {
      "text/plain": [
       "Index(['AJL.AX', 'BIQ.AX', 'CDD.AX', 'CDU.AX', 'CLX.AX', 'EPW.AX', 'EWC.AX',\n",
       "       'FFC.AX', 'FRI.AX', 'GFI.AX', 'JHL.AX', 'LGD.AX', 'MGC.AX', 'MJP.AX',\n",
       "       'MYE.AX', 'PPC.AX', 'RUL.AX', 'SIO.AX', 'SKT.AX', 'SLM.AX', 'SWL.AX',\n",
       "       'TPE.AX', 'USR.AX'],\n",
       "      dtype='object', name='code')"
      ]
     },
     "execution_count": 6,
     "metadata": {},
     "output_type": "execute_result"
    }
   ],
   "source": [
    "low.loc[low].index"
   ]
  },
  {
   "cell_type": "code",
   "execution_count": 7,
   "metadata": {
    "collapsed": true
   },
   "outputs": [],
   "source": [
    "years = [2011, 2012, 2013, 2014, 2015, 2016]\n",
    "dat = pd.DataFrame({})\n",
    "for year in years:\n",
    "    dat = dat.append(pd.read_csv(os.path.join(price_path, str(year)+'price.csv')))"
   ]
  },
  {
   "cell_type": "code",
   "execution_count": 21,
   "metadata": {
    "collapsed": true
   },
   "outputs": [],
   "source": [
    "code = 'CDD.AX'"
   ]
  },
  {
   "cell_type": "code",
   "execution_count": 22,
   "metadata": {
    "collapsed": false
   },
   "outputs": [],
   "source": [
    "code_dat = dat.loc[(dat.code == code).values].copy()"
   ]
  },
  {
   "cell_type": "code",
   "execution_count": 23,
   "metadata": {
    "collapsed": false
   },
   "outputs": [
    {
     "data": {
      "text/html": [
       "<div>\n",
       "<table border=\"1\" class=\"dataframe\">\n",
       "  <thead>\n",
       "    <tr style=\"text-align: right;\">\n",
       "      <th></th>\n",
       "      <th>Adj Close</th>\n",
       "      <th>Close</th>\n",
       "      <th>Date</th>\n",
       "      <th>High</th>\n",
       "      <th>Low</th>\n",
       "      <th>Open</th>\n",
       "      <th>Volume</th>\n",
       "      <th>code</th>\n",
       "      <th>is_last_11_day</th>\n",
       "    </tr>\n",
       "  </thead>\n",
       "  <tbody>\n",
       "    <tr>\n",
       "      <th>66838</th>\n",
       "      <td>2.57446</td>\n",
       "      <td>4.29892</td>\n",
       "      <td>2011-01-03</td>\n",
       "      <td>4.29892</td>\n",
       "      <td>4.29892</td>\n",
       "      <td>4.29892</td>\n",
       "      <td>0.0</td>\n",
       "      <td>CDD.AX</td>\n",
       "      <td>NaN</td>\n",
       "    </tr>\n",
       "    <tr>\n",
       "      <th>66839</th>\n",
       "      <td>2.58372</td>\n",
       "      <td>4.31438</td>\n",
       "      <td>2011-01-04</td>\n",
       "      <td>4.32985</td>\n",
       "      <td>4.29892</td>\n",
       "      <td>4.32985</td>\n",
       "      <td>99200.0</td>\n",
       "      <td>CDD.AX</td>\n",
       "      <td>NaN</td>\n",
       "    </tr>\n",
       "    <tr>\n",
       "      <th>66840</th>\n",
       "      <td>2.61613</td>\n",
       "      <td>4.36850</td>\n",
       "      <td>2011-01-05</td>\n",
       "      <td>4.36850</td>\n",
       "      <td>4.26026</td>\n",
       "      <td>4.26799</td>\n",
       "      <td>100600.0</td>\n",
       "      <td>CDD.AX</td>\n",
       "      <td>NaN</td>\n",
       "    </tr>\n",
       "    <tr>\n",
       "      <th>66841</th>\n",
       "      <td>2.63928</td>\n",
       "      <td>4.40716</td>\n",
       "      <td>2011-01-06</td>\n",
       "      <td>4.44582</td>\n",
       "      <td>4.36077</td>\n",
       "      <td>4.37624</td>\n",
       "      <td>68800.0</td>\n",
       "      <td>CDD.AX</td>\n",
       "      <td>NaN</td>\n",
       "    </tr>\n",
       "    <tr>\n",
       "      <th>66842</th>\n",
       "      <td>2.59299</td>\n",
       "      <td>4.32985</td>\n",
       "      <td>2011-01-07</td>\n",
       "      <td>4.44582</td>\n",
       "      <td>4.32985</td>\n",
       "      <td>4.43036</td>\n",
       "      <td>56300.0</td>\n",
       "      <td>CDD.AX</td>\n",
       "      <td>NaN</td>\n",
       "    </tr>\n",
       "  </tbody>\n",
       "</table>\n",
       "</div>"
      ],
      "text/plain": [
       "       Adj Close    Close        Date     High      Low     Open    Volume  \\\n",
       "66838    2.57446  4.29892  2011-01-03  4.29892  4.29892  4.29892       0.0   \n",
       "66839    2.58372  4.31438  2011-01-04  4.32985  4.29892  4.32985   99200.0   \n",
       "66840    2.61613  4.36850  2011-01-05  4.36850  4.26026  4.26799  100600.0   \n",
       "66841    2.63928  4.40716  2011-01-06  4.44582  4.36077  4.37624   68800.0   \n",
       "66842    2.59299  4.32985  2011-01-07  4.44582  4.32985  4.43036   56300.0   \n",
       "\n",
       "         code  is_last_11_day  \n",
       "66838  CDD.AX             NaN  \n",
       "66839  CDD.AX             NaN  \n",
       "66840  CDD.AX             NaN  \n",
       "66841  CDD.AX             NaN  \n",
       "66842  CDD.AX             NaN  "
      ]
     },
     "execution_count": 23,
     "metadata": {},
     "output_type": "execute_result"
    }
   ],
   "source": [
    "code_dat.head()"
   ]
  },
  {
   "cell_type": "code",
   "execution_count": 24,
   "metadata": {
    "collapsed": true
   },
   "outputs": [],
   "source": [
    "code_dat.loc[:, 'Date'] = pd.to_datetime(code_dat.loc[:, 'Date'])"
   ]
  },
  {
   "cell_type": "code",
   "execution_count": 25,
   "metadata": {
    "collapsed": true
   },
   "outputs": [],
   "source": [
    "code_dat = code_dat.set_index('Date')"
   ]
  },
  {
   "cell_type": "code",
   "execution_count": 26,
   "metadata": {
    "collapsed": false
   },
   "outputs": [
    {
     "data": {
      "image/png": "[encoded data removed]",
      "text/plain": [
       "<matplotlib.figure.Figure at 0x10e8c6ba8>"
      ]
     },
     "metadata": {},
     "output_type": "display_data"
    }
   ],
   "source": [
    "plt.figure(figsize=(10, 6))\n",
    "ax = plt.subplot(111)\n",
    "code_dat.loc[:, 'Close'].plot(kind='line')\n",
    "plt.grid()"
   ]
  },
  {
   "cell_type": "code",
   "execution_count": 14,
   "metadata": {
    "collapsed": false
   },
   "outputs": [
    {
     "data": {
      "image/png": "[encoded data removed]",
      "text/plain": [
       "<matplotlib.figure.Figure at 0x10ccb34a8>"
      ]
     },
     "metadata": {},
     "output_type": "display_data"
    }
   ],
   "source": [
    "plt.figure(figsize=(10, 6))\n",
    "ax = plt.subplot(111)\n",
    "code_dat.loc[:, 'Adj Close'].plot(kind='line')\n",
    "plt.grid()"
   ]
  },
  {
   "cell_type": "code",
   "execution_count": 108,
   "metadata": {
    "collapsed": true
   },
   "outputs": [],
   "source": [
    "asx_sector = pd.read_excel('sector_codes.xlsx')"
   ]
  },
  {
   "cell_type": "code",
   "execution_count": 16,
   "metadata": {
    "collapsed": false
   },
   "outputs": [
    {
     "data": {
      "text/html": [
       "<div>\n",
       "<table border=\"1\" class=\"dataframe\">\n",
       "  <thead>\n",
       "    <tr style=\"text-align: right;\">\n",
       "      <th></th>\n",
       "      <th>sector_code</th>\n",
       "      <th>name</th>\n",
       "    </tr>\n",
       "  </thead>\n",
       "  <tbody>\n",
       "    <tr>\n",
       "      <th>0</th>\n",
       "      <td>^AXPJ</td>\n",
       "      <td>S&amp;P/ASX 200 A-REIT</td>\n",
       "    </tr>\n",
       "    <tr>\n",
       "      <th>1</th>\n",
       "      <td>^AXDJ</td>\n",
       "      <td>S&amp;P/ASX 200 Cons Disc</td>\n",
       "    </tr>\n",
       "    <tr>\n",
       "      <th>2</th>\n",
       "      <td>^AXSJ</td>\n",
       "      <td>S&amp;P/ASX 200 Cons Staples</td>\n",
       "    </tr>\n",
       "    <tr>\n",
       "      <th>3</th>\n",
       "      <td>^AXEJ</td>\n",
       "      <td>S&amp;P/ASX 200 Energy</td>\n",
       "    </tr>\n",
       "    <tr>\n",
       "      <th>4</th>\n",
       "      <td>^AXXJ</td>\n",
       "      <td>S&amp;P/ASX 200 Fin-x-Prop</td>\n",
       "    </tr>\n",
       "    <tr>\n",
       "      <th>5</th>\n",
       "      <td>^AXFJ</td>\n",
       "      <td>S&amp;P/ASX 200 Financials</td>\n",
       "    </tr>\n",
       "    <tr>\n",
       "      <th>6</th>\n",
       "      <td>^AXHJ</td>\n",
       "      <td>S&amp;P/ASX 200 Health Care</td>\n",
       "    </tr>\n",
       "    <tr>\n",
       "      <th>7</th>\n",
       "      <td>^AXNJ</td>\n",
       "      <td>S&amp;P/ASX 200 Industrials</td>\n",
       "    </tr>\n",
       "    <tr>\n",
       "      <th>8</th>\n",
       "      <td>^AXIJ</td>\n",
       "      <td>S&amp;P/ASX 200 Info Tech</td>\n",
       "    </tr>\n",
       "    <tr>\n",
       "      <th>9</th>\n",
       "      <td>^AXMJ</td>\n",
       "      <td>S&amp;P/ASX 200 Materials</td>\n",
       "    </tr>\n",
       "    <tr>\n",
       "      <th>10</th>\n",
       "      <td>^AXTJ</td>\n",
       "      <td>S&amp;P/ASX 200 Telecomms</td>\n",
       "    </tr>\n",
       "    <tr>\n",
       "      <th>11</th>\n",
       "      <td>^AXUJ</td>\n",
       "      <td>S&amp;P/ASX 200 Utilities</td>\n",
       "    </tr>\n",
       "  </tbody>\n",
       "</table>\n",
       "</div>"
      ],
      "text/plain": [
       "   sector_code                      name\n",
       "0        ^AXPJ        S&P/ASX 200 A-REIT\n",
       "1        ^AXDJ     S&P/ASX 200 Cons Disc\n",
       "2        ^AXSJ  S&P/ASX 200 Cons Staples\n",
       "3        ^AXEJ        S&P/ASX 200 Energy\n",
       "4        ^AXXJ    S&P/ASX 200 Fin-x-Prop\n",
       "5        ^AXFJ    S&P/ASX 200 Financials\n",
       "6        ^AXHJ   S&P/ASX 200 Health Care\n",
       "7        ^AXNJ   S&P/ASX 200 Industrials\n",
       "8        ^AXIJ     S&P/ASX 200 Info Tech\n",
       "9        ^AXMJ     S&P/ASX 200 Materials\n",
       "10       ^AXTJ     S&P/ASX 200 Telecomms\n",
       "11       ^AXUJ     S&P/ASX 200 Utilities"
      ]
     },
     "execution_count": 16,
     "metadata": {},
     "output_type": "execute_result"
    }
   ],
   "source": [
    "asx_sector"
   ]
  },
  {
   "cell_type": "code",
   "execution_count": 17,
   "metadata": {
    "collapsed": true
   },
   "outputs": [],
   "source": [
    "asx_list = pd.read_excel('asx_full.xlsx')"
   ]
  },
  {
   "cell_type": "code",
   "execution_count": 110,
   "metadata": {
    "collapsed": false
   },
   "outputs": [
    {
     "data": {
      "text/plain": [
       "1804    Consumer Durables & Apparel\n",
       "Name: GICS industry group, dtype: object"
      ]
     },
     "execution_count": 110,
     "metadata": {},
     "output_type": "execute_result"
    }
   ],
   "source": [
    "asx_list.loc[(asx_list.loc[:, 'ASX code'] == 'SIO'), 'GICS industry group']"
   ]
  },
  {
   "cell_type": "code",
   "execution_count": null,
   "metadata": {
    "collapsed": true
   },
   "outputs": [],
   "source": []
  }
 ],
 "metadata": {
  "kernelspec": {
   "display_name": "Python 3",
   "language": "python",
   "name": "python3"
  },
  "language_info": {
   "codemirror_mode": {
    "name": "ipython",
    "version": 3
   },
   "file_extension": ".py",
   "mimetype": "text/x-python",
   "name": "python",
   "nbconvert_exporter": "python",
   "pygments_lexer": "ipython3",
   "version": "3.4.4"
  }
 },
 "nbformat": 4,
 "nbformat_minor": 0
}
