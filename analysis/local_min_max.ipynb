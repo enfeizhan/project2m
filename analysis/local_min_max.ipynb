{
 "cells": [
  {
   "cell_type": "code",
   "execution_count": 4,
   "metadata": {
    "collapsed": true
   },
   "outputs": [],
   "source": [
    "%matplotlib inline\n",
    "import numpy as np\n",
    "import pandas as pd\n",
    "import os\n",
    "import pandas_datareader.data as web\n",
    "import matplotlib.pyplot as plt"
   ]
  },
  {
   "cell_type": "code",
   "execution_count": 2,
   "metadata": {
    "collapsed": true
   },
   "outputs": [],
   "source": [
    "def find_local_min_max(series, x):\n",
    "    state = {\n",
    "        'pmin': None,\n",
    "        'pmin_ind': None,\n",
    "        'pmax': None,\n",
    "        'pmax_ind': None,\n",
    "        'lmin': None,\n",
    "        'lmax': None\n",
    "    }\n",
    "    state['pmin_ind'] = series.index.tolist()[0]\n",
    "    state['pmin'] = series.iat[0]\n",
    "    state['pmax_ind'] = series.index.tolist()[0]\n",
    "    state['pmax'] = series.iat[0]\n",
    "    local_min_ind = []\n",
    "    local_min = []\n",
    "    local_max_ind = []\n",
    "    local_max = []\n",
    "    for ind, value in series.iteritems():\n",
    "        if state['pmin'] is not None and state['pmax'] is not None and state['lmin'] is None and state['lmax'] is None:\n",
    "            if value <= state['pmin']:\n",
    "                state['pmin'] = value\n",
    "                state['pmin_ind'] = ind\n",
    "                if value <= state['pmax'] * (1 - x):\n",
    "                    state['lmax'] = state['pmax']\n",
    "                    local_max_ind.append(state['pmax_ind'])\n",
    "                    local_max.append(state['pmax'])\n",
    "                    state['pmax'] = None\n",
    "                    state['pmax_ind'] = None\n",
    "            elif value >= state['pmax']:\n",
    "                state['pmax'] = value\n",
    "                state['pmax_ind'] = ind\n",
    "                if value * (1 - x) > state['pmin']:\n",
    "                    state['lmin'] = state['pmin']\n",
    "                    local_min_ind.append(state['pmin_ind'])\n",
    "                    local_min.append(state['pmin'])\n",
    "                    state['pmin'] = None\n",
    "                    state['pmin_ind'] = None\n",
    "            else:\n",
    "                pass\n",
    "        elif state['pmax'] is not None and state['lmin'] is not None and state['pmin'] is None and state['lmax'] is None:\n",
    "            if value >= state['pmax']:\n",
    "                state['pmax'] = value\n",
    "                state['pmax_ind'] = ind\n",
    "            elif value <= state['pmax'] * (1 - x):\n",
    "                state['lmax'] = state['pmax']\n",
    "                local_max_ind.append(state['pmax_ind'])\n",
    "                local_max.append(state['pmax'])\n",
    "                state['pmax'] = None\n",
    "                state['pmax_ind'] = None\n",
    "                state['pmin'] = value\n",
    "                state['pmin_ind'] = ind\n",
    "            else:\n",
    "                pass\n",
    "        elif state['pmin'] is not None and state['lmax'] is not None and state['pmax'] is None and state['lmin'] is None:\n",
    "            if value <= state['pmin']:\n",
    "                state['pmin'] = value\n",
    "                state['pmin_ind'] = ind\n",
    "            elif value * (1 - x) >= state['pmin']:\n",
    "                state['lmin'] = state['pmin']\n",
    "                local_min_ind.append(state['pmin_ind'])\n",
    "                local_min.append(state['pmin'])\n",
    "                state['pmin'] = None\n",
    "                state['pmin_ind'] = None\n",
    "                state['pmax'] = value\n",
    "                state['pmax_ind'] = ind\n",
    "            else:\n",
    "                pass\n",
    "        elif state['lmin'] is not None and state['lmax'] is not None and state['pmax'] is None and state['pmin'] is not None:\n",
    "            if value <= state['pmin']:\n",
    "                state['pmin'] = value\n",
    "                state['pmin_ind'] = ind\n",
    "            else:\n",
    "                state['lmin'] = None\n",
    "                if value * (1 - x) >= state['pmin']:\n",
    "                    state['lmin'] = state['pmin']\n",
    "                    local_min_ind.append(state['pmin_ind'])\n",
    "                    local_min.append(state['pmin'])\n",
    "                    state['pmin'] = None\n",
    "                    state['pmin_ind'] = None\n",
    "                    state['pmax'] = value\n",
    "                    state['pmax_ind'] = ind\n",
    "        elif state['lmax'] is not None and state['lmin'] is not None and state['pmin'] is None and state['pmax'] is not None:\n",
    "            if value >= state['pmax']:\n",
    "                state['pmax'] = value\n",
    "                state['pmax_ind'] = ind\n",
    "            else:\n",
    "                state['lmax'] = None\n",
    "                if value <= state['pmax'] * (1 - x):\n",
    "                    state['lmax'] = state['pmax']\n",
    "                    local_max_ind.append(state['pmax_ind'])\n",
    "                    local_max.append(state['pmax'])\n",
    "                    state['pmax'] = None\n",
    "                    state['pmax_ind'] = None\n",
    "                    state['pmin'] = value\n",
    "                    state['pmin_ind'] = ind\n",
    "    return local_min_ind, local_min, local_max_ind, local_max"
   ]
  },
  {
   "cell_type": "code",
   "execution_count": 4,
   "metadata": {
    "collapsed": true
   },
   "outputs": [],
   "source": [
    "price_path = '/Users/feizhan/Dropbox/Project2M/ASXYearlyCompanyConsolidation/'"
   ]
  },
  {
   "cell_type": "code",
   "execution_count": 5,
   "metadata": {
    "collapsed": true
   },
   "outputs": [],
   "source": [
    "years = [2011, 2012, 2013, 2014, 2015, 2016]\n",
    "dat = pd.DataFrame({})\n",
    "for year in years:\n",
    "    dat = dat.append(pd.read_csv(os.path.join(price_path, str(year)+'price.csv')))"
   ]
  },
  {
   "cell_type": "code",
   "execution_count": 28,
   "metadata": {
    "collapsed": true
   },
   "outputs": [],
   "source": [
    "code = 'BSM.AX'"
   ]
  },
  {
   "cell_type": "code",
   "execution_count": 29,
   "metadata": {
    "collapsed": true
   },
   "outputs": [],
   "source": [
    "code_dat = dat.loc[(dat.code == code).values].copy()"
   ]
  },
  {
   "cell_type": "code",
   "execution_count": 30,
   "metadata": {
    "collapsed": false
   },
   "outputs": [
    {
     "data": {
      "text/html": [
       "<div>\n",
       "<table border=\"1\" class=\"dataframe\">\n",
       "  <thead>\n",
       "    <tr style=\"text-align: right;\">\n",
       "      <th></th>\n",
       "      <th>Adj Close</th>\n",
       "      <th>Close</th>\n",
       "      <th>Date</th>\n",
       "      <th>High</th>\n",
       "      <th>Low</th>\n",
       "      <th>Open</th>\n",
       "      <th>Volume</th>\n",
       "      <th>code</th>\n",
       "      <th>is_last_11_day</th>\n",
       "    </tr>\n",
       "  </thead>\n",
       "  <tbody>\n",
       "    <tr>\n",
       "      <th>57548</th>\n",
       "      <td>0.34977</td>\n",
       "      <td>0.34977</td>\n",
       "      <td>2011-01-04</td>\n",
       "      <td>0.35898</td>\n",
       "      <td>0.34517</td>\n",
       "      <td>0.35898</td>\n",
       "      <td>171200.0</td>\n",
       "      <td>BSM.AX</td>\n",
       "      <td>NaN</td>\n",
       "    </tr>\n",
       "    <tr>\n",
       "      <th>57549</th>\n",
       "      <td>0.34977</td>\n",
       "      <td>0.34977</td>\n",
       "      <td>2011-01-05</td>\n",
       "      <td>0.35437</td>\n",
       "      <td>0.34517</td>\n",
       "      <td>0.35437</td>\n",
       "      <td>91700.0</td>\n",
       "      <td>BSM.AX</td>\n",
       "      <td>NaN</td>\n",
       "    </tr>\n",
       "    <tr>\n",
       "      <th>57550</th>\n",
       "      <td>0.34517</td>\n",
       "      <td>0.34517</td>\n",
       "      <td>2011-01-06</td>\n",
       "      <td>0.34977</td>\n",
       "      <td>0.34057</td>\n",
       "      <td>0.34977</td>\n",
       "      <td>451300.0</td>\n",
       "      <td>BSM.AX</td>\n",
       "      <td>NaN</td>\n",
       "    </tr>\n",
       "    <tr>\n",
       "      <th>57551</th>\n",
       "      <td>0.34057</td>\n",
       "      <td>0.34057</td>\n",
       "      <td>2011-01-07</td>\n",
       "      <td>0.34517</td>\n",
       "      <td>0.34057</td>\n",
       "      <td>0.34517</td>\n",
       "      <td>389400.0</td>\n",
       "      <td>BSM.AX</td>\n",
       "      <td>NaN</td>\n",
       "    </tr>\n",
       "    <tr>\n",
       "      <th>57552</th>\n",
       "      <td>0.34057</td>\n",
       "      <td>0.34057</td>\n",
       "      <td>2011-01-10</td>\n",
       "      <td>0.34517</td>\n",
       "      <td>0.33597</td>\n",
       "      <td>0.34517</td>\n",
       "      <td>202700.0</td>\n",
       "      <td>BSM.AX</td>\n",
       "      <td>NaN</td>\n",
       "    </tr>\n",
       "  </tbody>\n",
       "</table>\n",
       "</div>"
      ],
      "text/plain": [
       "       Adj Close    Close        Date     High      Low     Open    Volume  \\\n",
       "57548    0.34977  0.34977  2011-01-04  0.35898  0.34517  0.35898  171200.0   \n",
       "57549    0.34977  0.34977  2011-01-05  0.35437  0.34517  0.35437   91700.0   \n",
       "57550    0.34517  0.34517  2011-01-06  0.34977  0.34057  0.34977  451300.0   \n",
       "57551    0.34057  0.34057  2011-01-07  0.34517  0.34057  0.34517  389400.0   \n",
       "57552    0.34057  0.34057  2011-01-10  0.34517  0.33597  0.34517  202700.0   \n",
       "\n",
       "         code  is_last_11_day  \n",
       "57548  BSM.AX             NaN  \n",
       "57549  BSM.AX             NaN  \n",
       "57550  BSM.AX             NaN  \n",
       "57551  BSM.AX             NaN  \n",
       "57552  BSM.AX             NaN  "
      ]
     },
     "execution_count": 30,
     "metadata": {},
     "output_type": "execute_result"
    }
   ],
   "source": [
    "code_dat.head()"
   ]
  },
  {
   "cell_type": "code",
   "execution_count": 31,
   "metadata": {
    "collapsed": true
   },
   "outputs": [],
   "source": [
    "code_dat.loc[:, 'Date'] = pd.to_datetime(code_dat.loc[:, 'Date'])"
   ]
  },
  {
   "cell_type": "code",
   "execution_count": 32,
   "metadata": {
    "collapsed": true
   },
   "outputs": [],
   "source": [
    "code_dat = code_dat.set_index('Date')"
   ]
  },
  {
   "cell_type": "code",
   "execution_count": 5,
   "metadata": {
    "collapsed": false
   },
   "outputs": [],
   "source": [
    "start_year = 2011\n",
    "end_year = 2016\n",
    "start = pd.datetime(start_year, 1, 1)\n",
    "end = pd.datetime(end_year, 12, 31)\n",
    "code = 'AJL.AX'\n",
    "code_dat = web.DataReader(code, 'yahoo', start, end)"
   ]
  },
  {
   "cell_type": "code",
   "execution_count": 6,
   "metadata": {
    "collapsed": false
   },
   "outputs": [],
   "source": [
    "local_min_ind, local_min, local_max_ind, local_max = find_local_min_max(code_dat.loc[:, 'Close'], .25)"
   ]
  },
  {
   "cell_type": "code",
   "execution_count": 7,
   "metadata": {
    "collapsed": false
   },
   "outputs": [
    {
     "data": {
      "text/plain": [
       "<matplotlib.collections.PathCollection at 0x10e2d7eb8>"
      ]
     },
     "execution_count": 7,
     "metadata": {},
     "output_type": "execute_result"
    },
    {
     "data": {
      "image/png": "[encoded data removed]",
      "text/plain": [
       "<matplotlib.figure.Figure at 0x10e2d7588>"
      ]
     },
     "metadata": {},
     "output_type": "display_data"
    }
   ],
   "source": [
    "plt.figure(figsize=(10, 6))\n",
    "ax = plt.subplot(111)\n",
    "code_dat.loc[:, 'Close'].plot(kind='line')\n",
    "plt.grid()\n",
    "plt.scatter(local_min_ind, local_min, s=100, c='r')\n",
    "plt.scatter(local_max_ind, local_max, s=100, c='g')"
   ]
  },
  {
   "cell_type": "code",
   "execution_count": 57,
   "metadata": {
    "collapsed": true
   },
   "outputs": [],
   "source": [
    "code_dat.loc[:, 'Close'].to_csv('close_price.csv')"
   ]
  },
  {
   "cell_type": "code",
   "execution_count": null,
   "metadata": {
    "collapsed": true
   },
   "outputs": [],
   "source": []
  }
 ],
 "metadata": {
  "kernelspec": {
   "display_name": "Python 3",
   "language": "python",
   "name": "python3"
  },
  "language_info": {
   "codemirror_mode": {
    "name": "ipython",
    "version": 3
   },
   "file_extension": ".py",
   "mimetype": "text/x-python",
   "name": "python",
   "nbconvert_exporter": "python",
   "pygments_lexer": "ipython3",
   "version": "3.4.4"
  }
 },
 "nbformat": 4,
 "nbformat_minor": 0
}
