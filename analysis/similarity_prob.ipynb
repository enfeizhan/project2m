{
 "cells": [
  {
   "cell_type": "code",
   "execution_count": 1,
   "metadata": {
    "collapsed": true
   },
   "outputs": [],
   "source": [
    "%matplotlib inline\n",
    "import numpy as np\n",
    "import pandas as pd\n",
    "import pandas_datareader.data as web\n",
    "import os\n",
    "import matplotlib.pyplot as plt\n",
    "from scipy.stats import pearsonr\n",
    "from multiprocessing import Pool, cpu_count"
   ]
  },
  {
   "cell_type": "code",
   "execution_count": 23,
   "metadata": {
    "collapsed": false
   },
   "outputs": [],
   "source": [
    "def similarity_prob(kwargs):\n",
    "    series = kwargs['series']\n",
    "    other = kwargs['other']\n",
    "    n_days = kwargs['n_days']\n",
    "    threshold = kwargs['threshold']\n",
    "    perc = kwargs['perc']\n",
    "    name = kwargs['name']\n",
    "    rolling = series.rolling(window=n_days)\n",
    "    corrs = rolling.apply(lambda x: np.corrcoef(x, other)[0, 1]).dropna().iloc[:-n_days]\n",
    "    max_values = rolling.max().dropna().shift(-n_days).dropna()\n",
    "    min_values = rolling.min().dropna().shift(-n_days).dropna()\n",
    "    values = series.iloc[n_days-1:-n_days]\n",
    "    inc_op = (max_values > (values * (1 + perc))).loc[(corrs > threshold).values]\n",
    "    dec_op = (min_values < (values * (1 - perc))).loc[(corrs > threshold).values]\n",
    "    try:\n",
    "        return pd.DataFrame({'total': inc_op.shape[0], 'inc_prob': inc_op.sum()/inc_op.shape[0], 'dec_prob': dec_op.sum()/dec_op.shape[0]}, index=[name])\n",
    "    except ZeroDivisionError:\n",
    "        return pd.DataFrame({'total': 0, 'inc_prob': 0, 'dec_prob': 0}, index=[name])"
   ]
  },
  {
   "cell_type": "code",
   "execution_count": 24,
   "metadata": {
    "collapsed": true
   },
   "outputs": [],
   "source": [
    "price_path = '/Users/feizhan/Dropbox/Project2M/ASXYearlyCompanyConsolidation/'"
   ]
  },
  {
   "cell_type": "code",
   "execution_count": 25,
   "metadata": {
    "collapsed": true
   },
   "outputs": [],
   "source": [
    "years = [2013, 2014, 2015, 2016]\n",
    "dat = pd.DataFrame({})\n",
    "for year in years:\n",
    "    dat = dat.append(pd.read_csv(os.path.join(price_path, str(year)+'price.csv')))"
   ]
  },
  {
   "cell_type": "code",
   "execution_count": 26,
   "metadata": {
    "collapsed": true
   },
   "outputs": [],
   "source": [
    "gpd = dat.groupby('code')"
   ]
  },
  {
   "cell_type": "code",
   "execution_count": 27,
   "metadata": {
    "collapsed": false
   },
   "outputs": [],
   "source": [
    "def find_prob_total(gpd, func, n_days=10, threshold=.7, perc=.1):\n",
    "    with Pool(cpu_count()) as p:\n",
    "        ret_list = p.map(\n",
    "            func, \n",
    "            [\n",
    "                {\n",
    "                    'n_days': n_days,\n",
    "                    'threshold': threshold,\n",
    "                    'perc': perc,\n",
    "                    'series': group['Close'],\n",
    "                    'other': group['Close'].iloc[-n_days:],\n",
    "                    'name': name\n",
    "                } \n",
    "                for name, group in gpd\n",
    "            ]\n",
    "        )\n",
    "    return pd.concat(ret_list)"
   ]
  },
  {
   "cell_type": "code",
   "execution_count": 28,
   "metadata": {
    "collapsed": false
   },
   "outputs": [
    {
     "name": "stdout",
     "output_type": "stream",
     "text": [
      "CPU times: user 2.58 s, sys: 264 ms, total: 2.84 s\n",
      "Wall time: 46.4 s\n"
     ]
    }
   ],
   "source": [
    "%time similarity_analysis = find_prob_total(gpd, similarity_prob)"
   ]
  },
  {
   "cell_type": "code",
   "execution_count": 30,
   "metadata": {
    "collapsed": false
   },
   "outputs": [
    {
     "data": {
      "text/html": [
       "<div>\n",
       "<table border=\"1\" class=\"dataframe\">\n",
       "  <thead>\n",
       "    <tr style=\"text-align: right;\">\n",
       "      <th></th>\n",
       "      <th>dec_prob</th>\n",
       "      <th>inc_prob</th>\n",
       "      <th>total</th>\n",
       "    </tr>\n",
       "  </thead>\n",
       "  <tbody>\n",
       "    <tr>\n",
       "      <th>1AL.AX</th>\n",
       "      <td>0.000000</td>\n",
       "      <td>0.000000</td>\n",
       "      <td>5</td>\n",
       "    </tr>\n",
       "    <tr>\n",
       "      <th>1PG.AX</th>\n",
       "      <td>0.238095</td>\n",
       "      <td>0.428571</td>\n",
       "      <td>21</td>\n",
       "    </tr>\n",
       "    <tr>\n",
       "      <th>1ST.AX</th>\n",
       "      <td>0.315789</td>\n",
       "      <td>0.280702</td>\n",
       "      <td>57</td>\n",
       "    </tr>\n",
       "    <tr>\n",
       "      <th>3DM.AX</th>\n",
       "      <td>0.337209</td>\n",
       "      <td>0.430233</td>\n",
       "      <td>86</td>\n",
       "    </tr>\n",
       "    <tr>\n",
       "      <th>3PL.AX</th>\n",
       "      <td>0.135802</td>\n",
       "      <td>0.074074</td>\n",
       "      <td>81</td>\n",
       "    </tr>\n",
       "  </tbody>\n",
       "</table>\n",
       "</div>"
      ],
      "text/plain": [
       "        dec_prob  inc_prob  total\n",
       "1AL.AX  0.000000  0.000000      5\n",
       "1PG.AX  0.238095  0.428571     21\n",
       "1ST.AX  0.315789  0.280702     57\n",
       "3DM.AX  0.337209  0.430233     86\n",
       "3PL.AX  0.135802  0.074074     81"
      ]
     },
     "execution_count": 30,
     "metadata": {},
     "output_type": "execute_result"
    }
   ],
   "source": [
    "similarity_analysis.head()"
   ]
  },
  {
   "cell_type": "code",
   "execution_count": 4,
   "metadata": {
    "collapsed": true
   },
   "outputs": [],
   "source": [
    "start_year = 2011\n",
    "end_year = 2016\n",
    "start = pd.datetime(start_year, 1, 1)\n",
    "end = pd.datetime(end_year, 12, 31)\n",
    "code = 'AJL.AX'\n",
    "code_dat = web.DataReader(code, 'yahoo', start, end)"
   ]
  },
  {
   "cell_type": "code",
   "execution_count": 20,
   "metadata": {
    "collapsed": true
   },
   "outputs": [],
   "source": [
    "def single_similarity_prob(series, n_days=10, threshold=.7, perc=0.1):\n",
    "    other = series.iloc[-n_days:]\n",
    "    rolling = series.rolling(window=n_days)\n",
    "    corrs = rolling.apply(lambda x: np.corrcoef(x, other)[0, 1]).dropna().iloc[:-n_days]\n",
    "    max_values = rolling.max().dropna().shift(-n_days).dropna()\n",
    "    min_values = rolling.min().dropna().shift(-n_days).dropna()\n",
    "    values = series.iloc[n_days-1:-n_days]\n",
    "    inc_op = (max_values > (values * (1 + perc))).loc[(corrs > threshold).values]\n",
    "    dec_op = (min_values < (values * (1 - perc))).loc[(corrs > threshold).values]\n",
    "    try:\n",
    "        return pd.DataFrame({'total': [inc_op.shape[0]], 'inc_prob': [inc_op.sum()/inc_op.shape[0]], 'dec_prob': [dec_op.sum()/dec_op.shape[0]]})\n",
    "    except ZeroDivisionError:\n",
    "        return pd.DataFrame({'total': [0], 'inc_prob': [0], 'dec_prob': [0]})"
   ]
  },
  {
   "cell_type": "code",
   "execution_count": 21,
   "metadata": {
    "collapsed": false
   },
   "outputs": [
    {
     "data": {
      "text/html": [
       "<div>\n",
       "<table border=\"1\" class=\"dataframe\">\n",
       "  <thead>\n",
       "    <tr style=\"text-align: right;\">\n",
       "      <th></th>\n",
       "      <th>dec_prob</th>\n",
       "      <th>inc_prob</th>\n",
       "      <th>total</th>\n",
       "    </tr>\n",
       "  </thead>\n",
       "  <tbody>\n",
       "    <tr>\n",
       "      <th>0</th>\n",
       "      <td>0.058824</td>\n",
       "      <td>0.235294</td>\n",
       "      <td>17</td>\n",
       "    </tr>\n",
       "  </tbody>\n",
       "</table>\n",
       "</div>"
      ],
      "text/plain": [
       "   dec_prob  inc_prob  total\n",
       "0  0.058824  0.235294     17"
      ]
     },
     "execution_count": 21,
     "metadata": {},
     "output_type": "execute_result"
    }
   ],
   "source": [
    "single_similarity_prob(code_dat.loc[:, 'Close'], n_days=10, perc=.15, threshold=.8)"
   ]
  },
  {
   "cell_type": "code",
   "execution_count": null,
   "metadata": {
    "collapsed": true
   },
   "outputs": [],
   "source": []
  }
 ],
 "metadata": {
  "kernelspec": {
   "display_name": "Python 3",
   "language": "python",
   "name": "python3"
  },
  "language_info": {
   "codemirror_mode": {
    "name": "ipython",
    "version": 3
   },
   "file_extension": ".py",
   "mimetype": "text/x-python",
   "name": "python",
   "nbconvert_exporter": "python",
   "pygments_lexer": "ipython3",
   "version": "3.4.4"
  }
 },
 "nbformat": 4,
 "nbformat_minor": 0
}
